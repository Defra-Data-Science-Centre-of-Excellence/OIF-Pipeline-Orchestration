{
 "metadata": {
  "language_info": {
   "codemirror_mode": {
    "name": "ipython",
    "version": 3
   },
   "file_extension": ".py",
   "mimetype": "text/x-python",
   "name": "python",
   "nbconvert_exporter": "python",
   "pygments_lexer": "ipython3",
   "version": "3.8.5-final"
  },
  "orig_nbformat": 2,
  "kernelspec": {
   "name": "python3",
   "display_name": "Python 3"
  }
 },
 "nbformat": 4,
 "nbformat_minor": 2,
 "cells": [
  {
   "source": [
    "# Emissions for five key air pollutants in England\n",
    "\n",
    "A step by step example of scripted analysis"
   ],
   "cell_type": "markdown",
   "metadata": {}
  },
  {
   "source": [
    "## Conventions\n",
    "\n",
    "*  [PEP8 - Style guide](https://www.python.org/dev/peps/pep-0008/)\n",
    "*  Explicit paramters\n",
    "*  One expression per line"
   ],
   "cell_type": "markdown",
   "metadata": {}
  },
  {
   "source": [
    "## Preparation\n",
    "\n",
    "Use an [`import` statement](https://docs.python.org/3/reference/import.html) to make necessary [packages](https://docs.python.org/3/glossary.html#term-package) available. Packages, which may also be referred to as libraries, contain [modules](https://docs.python.org/3/glossary.html#term-module) that contain [functions](https://docs.python.org/3/glossary.html#term-function) that allow you to do things.\n",
    "\n",
    "[`pandas`](https://pandas.pydata.org/) is the most popular Python package for data analysis and manipulation.\n",
    "\n",
    "[`plotly`](https://plotly.com/python/) is an interactive ploting package for JavaScript, Python, and R. The [`express` module](https://plotly.com/python/plotly-express/) is a hig-level interface, intended to make the creation of common plots easier. The [`io` module](https://plotly.com/python-api-reference/plotly.io.html) is low-level interface for displaying, reading and writing figures.\n",
    "\n",
    "Setting `pio.renderers.default` to `\"png\"` allows this notebook to display static version of the plots.\n",
    "\n",
    "Using `as` allows you to refer to a library by an alias."
   ],
   "cell_type": "markdown",
   "metadata": {}
  },
  {
   "cell_type": "code",
   "execution_count": 1,
   "metadata": {},
   "outputs": [],
   "source": [
    "import pandas as pd\n",
    "import plotly.express as px\n",
    "import plotly.io as pio\n",
    "pio.renderers.default = \"vscode\""
   ]
  },
  {
   "source": [
    "## Read input data\n",
    "\n",
    "The [`read_excel` method](https://pandas.pydata.org/docs/reference/api/pandas.read_excel.html) allows you to read a Excel or OpenDocument workbook from a local filesystem or URL. A [method](https://docs.python.org/3/glossary.html#term-method) is a special type of function that operates on a specific [class](https://docs.python.org/3/glossary.html#term-class) of [object](https://docs.python.org/3/glossary.html#term-object).\n",
    "\n",
    "By default, `read_excel` reads the first sheet in a workbook but the `sheet_name` [parameter](https://docs.python.org/3/glossary.html#term-parameter) allows you to read a specific sheet. \n",
    "\n",
    "The `usecols` and `skiprows` parameters define a specific range within a sheet. As one might expect, `usecols` defines the columns to read, while `skiprows` defines the number of rows to skip. For example, if the table header row is at row 6, use `skiprows=5` \n",
    "  \n"
   ],
   "cell_type": "markdown",
   "metadata": {}
  },
  {
   "cell_type": "code",
   "execution_count": 2,
   "metadata": {},
   "outputs": [
    {
     "output_type": "execute_result",
     "data": {
      "text/plain": [
       "      ShortPollName NFRCode                                      SourceName  \\\n",
       "0                CO    1A1a                                  Autogenerators   \n",
       "1                CO    1A1a  Miscellaneous industrial/commercial combustion   \n",
       "2                CO    1A1a                                  Power stations   \n",
       "3                CO    1A1a                        Public sector combustion   \n",
       "4                CO    1A1b                         Refineries - combustion   \n",
       "...             ...     ...                                             ...   \n",
       "1597        Dioxins      5E              Accidental fires - other buildings   \n",
       "1598        Dioxins      5E                     Accidental fires - vehicles   \n",
       "1599        Dioxins      5E                                   Bonfire night   \n",
       "1600        Dioxins      5E                Regeneration of activated carbon   \n",
       "1601  Dioxins Total     NaN                                             NaN   \n",
       "\n",
       "             1990        1995        1998        1999        2000        2001  \\\n",
       "0        0.000000    0.000000    0.000861    0.000987    0.001225    0.001165   \n",
       "1        0.372920    0.285545    0.104246    0.108912    0.118016    0.123270   \n",
       "2       91.485663   85.075695   48.035092   43.356297   52.875139   53.176906   \n",
       "3        0.009175    0.015521    0.014372    0.014410    0.012844    0.013138   \n",
       "4        4.455526    4.998781    5.248910    4.862012    3.785558    2.391528   \n",
       "...           ...         ...         ...         ...         ...         ...   \n",
       "1597    33.872274   31.567114   21.304133   24.019332   21.008371   23.956037   \n",
       "1598     2.078575    2.550182    2.790793    3.312796    3.492857    3.798588   \n",
       "1599     5.659099    5.662411    5.669577    5.673903    5.677598    5.680664   \n",
       "1600     0.004980    0.004965    0.005035    0.005053    0.005066    0.005064   \n",
       "1601  1155.548823  654.954846  349.814333  317.958353  266.507937  258.908712   \n",
       "\n",
       "            2002  ...        2009        2010        2011        2012  \\\n",
       "0       0.001197  ...    0.072842    0.188518    0.380950    0.773427   \n",
       "1       0.126718  ...    0.135080    0.127430    0.144871    0.148156   \n",
       "2      52.253263  ...   49.778303   54.550899   56.543332   67.445893   \n",
       "3       0.014227  ...    0.013591    0.015413    0.017175    0.017028   \n",
       "4       2.788338  ...    4.460696    3.287260    2.801700    3.162767   \n",
       "...          ...  ...         ...         ...         ...         ...   \n",
       "1597   25.189342  ...   14.384685    7.484103    7.735522    7.361696   \n",
       "1598    3.531072  ...    1.468508    1.249611    1.074494    0.914371   \n",
       "1599    5.682738  ...    5.693059    5.696063    5.698611    5.702258   \n",
       "1600    0.005064  ...    0.005050    0.005067    0.005065    0.005064   \n",
       "1601  239.204514  ...  153.721607  169.330482  160.448531  159.011939   \n",
       "\n",
       "            2013        2014        2015        2016        2017        2018  \n",
       "0       1.108654    1.654888    2.648169    4.194255    4.936837    5.536873  \n",
       "1       0.172320    0.125973    0.133799    0.127731    0.144326    0.136516  \n",
       "2      65.244769   55.655886   46.738127   30.714808   30.172769   38.881950  \n",
       "3       0.018264    0.018127    0.019443    0.019173    0.022132    0.021411  \n",
       "4       3.266939    4.154463    5.523977    4.606405    4.050079    3.934826  \n",
       "...          ...         ...         ...         ...         ...         ...  \n",
       "1597    5.908632    5.449799    5.676366    5.663757    5.629048    5.302077  \n",
       "1598    0.884555    0.876158    0.937898    1.046528    0.991551    0.968553  \n",
       "1599    5.706041    5.710051    5.714023    5.717025    5.719205    5.721748  \n",
       "1600    0.005062    0.005067    0.005074    0.005079    0.005079    0.005086  \n",
       "1601  158.258559  141.291091  138.523140  131.678532  130.226749  131.203560  \n",
       "\n",
       "[1602 rows x 26 columns]"
      ],
      "text/html": "<div>\n<style scoped>\n    .dataframe tbody tr th:only-of-type {\n        vertical-align: middle;\n    }\n\n    .dataframe tbody tr th {\n        vertical-align: top;\n    }\n\n    .dataframe thead th {\n        text-align: right;\n    }\n</style>\n<table border=\"1\" class=\"dataframe\">\n  <thead>\n    <tr style=\"text-align: right;\">\n      <th></th>\n      <th>ShortPollName</th>\n      <th>NFRCode</th>\n      <th>SourceName</th>\n      <th>1990</th>\n      <th>1995</th>\n      <th>1998</th>\n      <th>1999</th>\n      <th>2000</th>\n      <th>2001</th>\n      <th>2002</th>\n      <th>...</th>\n      <th>2009</th>\n      <th>2010</th>\n      <th>2011</th>\n      <th>2012</th>\n      <th>2013</th>\n      <th>2014</th>\n      <th>2015</th>\n      <th>2016</th>\n      <th>2017</th>\n      <th>2018</th>\n    </tr>\n  </thead>\n  <tbody>\n    <tr>\n      <th>0</th>\n      <td>CO</td>\n      <td>1A1a</td>\n      <td>Autogenerators</td>\n      <td>0.000000</td>\n      <td>0.000000</td>\n      <td>0.000861</td>\n      <td>0.000987</td>\n      <td>0.001225</td>\n      <td>0.001165</td>\n      <td>0.001197</td>\n      <td>...</td>\n      <td>0.072842</td>\n      <td>0.188518</td>\n      <td>0.380950</td>\n      <td>0.773427</td>\n      <td>1.108654</td>\n      <td>1.654888</td>\n      <td>2.648169</td>\n      <td>4.194255</td>\n      <td>4.936837</td>\n      <td>5.536873</td>\n    </tr>\n    <tr>\n      <th>1</th>\n      <td>CO</td>\n      <td>1A1a</td>\n      <td>Miscellaneous industrial/commercial combustion</td>\n      <td>0.372920</td>\n      <td>0.285545</td>\n      <td>0.104246</td>\n      <td>0.108912</td>\n      <td>0.118016</td>\n      <td>0.123270</td>\n      <td>0.126718</td>\n      <td>...</td>\n      <td>0.135080</td>\n      <td>0.127430</td>\n      <td>0.144871</td>\n      <td>0.148156</td>\n      <td>0.172320</td>\n      <td>0.125973</td>\n      <td>0.133799</td>\n      <td>0.127731</td>\n      <td>0.144326</td>\n      <td>0.136516</td>\n    </tr>\n    <tr>\n      <th>2</th>\n      <td>CO</td>\n      <td>1A1a</td>\n      <td>Power stations</td>\n      <td>91.485663</td>\n      <td>85.075695</td>\n      <td>48.035092</td>\n      <td>43.356297</td>\n      <td>52.875139</td>\n      <td>53.176906</td>\n      <td>52.253263</td>\n      <td>...</td>\n      <td>49.778303</td>\n      <td>54.550899</td>\n      <td>56.543332</td>\n      <td>67.445893</td>\n      <td>65.244769</td>\n      <td>55.655886</td>\n      <td>46.738127</td>\n      <td>30.714808</td>\n      <td>30.172769</td>\n      <td>38.881950</td>\n    </tr>\n    <tr>\n      <th>3</th>\n      <td>CO</td>\n      <td>1A1a</td>\n      <td>Public sector combustion</td>\n      <td>0.009175</td>\n      <td>0.015521</td>\n      <td>0.014372</td>\n      <td>0.014410</td>\n      <td>0.012844</td>\n      <td>0.013138</td>\n      <td>0.014227</td>\n      <td>...</td>\n      <td>0.013591</td>\n      <td>0.015413</td>\n      <td>0.017175</td>\n      <td>0.017028</td>\n      <td>0.018264</td>\n      <td>0.018127</td>\n      <td>0.019443</td>\n      <td>0.019173</td>\n      <td>0.022132</td>\n      <td>0.021411</td>\n    </tr>\n    <tr>\n      <th>4</th>\n      <td>CO</td>\n      <td>1A1b</td>\n      <td>Refineries - combustion</td>\n      <td>4.455526</td>\n      <td>4.998781</td>\n      <td>5.248910</td>\n      <td>4.862012</td>\n      <td>3.785558</td>\n      <td>2.391528</td>\n      <td>2.788338</td>\n      <td>...</td>\n      <td>4.460696</td>\n      <td>3.287260</td>\n      <td>2.801700</td>\n      <td>3.162767</td>\n      <td>3.266939</td>\n      <td>4.154463</td>\n      <td>5.523977</td>\n      <td>4.606405</td>\n      <td>4.050079</td>\n      <td>3.934826</td>\n    </tr>\n    <tr>\n      <th>...</th>\n      <td>...</td>\n      <td>...</td>\n      <td>...</td>\n      <td>...</td>\n      <td>...</td>\n      <td>...</td>\n      <td>...</td>\n      <td>...</td>\n      <td>...</td>\n      <td>...</td>\n      <td>...</td>\n      <td>...</td>\n      <td>...</td>\n      <td>...</td>\n      <td>...</td>\n      <td>...</td>\n      <td>...</td>\n      <td>...</td>\n      <td>...</td>\n      <td>...</td>\n      <td>...</td>\n    </tr>\n    <tr>\n      <th>1597</th>\n      <td>Dioxins</td>\n      <td>5E</td>\n      <td>Accidental fires - other buildings</td>\n      <td>33.872274</td>\n      <td>31.567114</td>\n      <td>21.304133</td>\n      <td>24.019332</td>\n      <td>21.008371</td>\n      <td>23.956037</td>\n      <td>25.189342</td>\n      <td>...</td>\n      <td>14.384685</td>\n      <td>7.484103</td>\n      <td>7.735522</td>\n      <td>7.361696</td>\n      <td>5.908632</td>\n      <td>5.449799</td>\n      <td>5.676366</td>\n      <td>5.663757</td>\n      <td>5.629048</td>\n      <td>5.302077</td>\n    </tr>\n    <tr>\n      <th>1598</th>\n      <td>Dioxins</td>\n      <td>5E</td>\n      <td>Accidental fires - vehicles</td>\n      <td>2.078575</td>\n      <td>2.550182</td>\n      <td>2.790793</td>\n      <td>3.312796</td>\n      <td>3.492857</td>\n      <td>3.798588</td>\n      <td>3.531072</td>\n      <td>...</td>\n      <td>1.468508</td>\n      <td>1.249611</td>\n      <td>1.074494</td>\n      <td>0.914371</td>\n      <td>0.884555</td>\n      <td>0.876158</td>\n      <td>0.937898</td>\n      <td>1.046528</td>\n      <td>0.991551</td>\n      <td>0.968553</td>\n    </tr>\n    <tr>\n      <th>1599</th>\n      <td>Dioxins</td>\n      <td>5E</td>\n      <td>Bonfire night</td>\n      <td>5.659099</td>\n      <td>5.662411</td>\n      <td>5.669577</td>\n      <td>5.673903</td>\n      <td>5.677598</td>\n      <td>5.680664</td>\n      <td>5.682738</td>\n      <td>...</td>\n      <td>5.693059</td>\n      <td>5.696063</td>\n      <td>5.698611</td>\n      <td>5.702258</td>\n      <td>5.706041</td>\n      <td>5.710051</td>\n      <td>5.714023</td>\n      <td>5.717025</td>\n      <td>5.719205</td>\n      <td>5.721748</td>\n    </tr>\n    <tr>\n      <th>1600</th>\n      <td>Dioxins</td>\n      <td>5E</td>\n      <td>Regeneration of activated carbon</td>\n      <td>0.004980</td>\n      <td>0.004965</td>\n      <td>0.005035</td>\n      <td>0.005053</td>\n      <td>0.005066</td>\n      <td>0.005064</td>\n      <td>0.005064</td>\n      <td>...</td>\n      <td>0.005050</td>\n      <td>0.005067</td>\n      <td>0.005065</td>\n      <td>0.005064</td>\n      <td>0.005062</td>\n      <td>0.005067</td>\n      <td>0.005074</td>\n      <td>0.005079</td>\n      <td>0.005079</td>\n      <td>0.005086</td>\n    </tr>\n    <tr>\n      <th>1601</th>\n      <td>Dioxins Total</td>\n      <td>NaN</td>\n      <td>NaN</td>\n      <td>1155.548823</td>\n      <td>654.954846</td>\n      <td>349.814333</td>\n      <td>317.958353</td>\n      <td>266.507937</td>\n      <td>258.908712</td>\n      <td>239.204514</td>\n      <td>...</td>\n      <td>153.721607</td>\n      <td>169.330482</td>\n      <td>160.448531</td>\n      <td>159.011939</td>\n      <td>158.258559</td>\n      <td>141.291091</td>\n      <td>138.523140</td>\n      <td>131.678532</td>\n      <td>130.226749</td>\n      <td>131.203560</td>\n    </tr>\n  </tbody>\n</table>\n<p>1602 rows × 26 columns</p>\n</div>"
     },
     "metadata": {},
     "execution_count": 2
    }
   ],
   "source": [
    "df_raw = pd.read_excel(\n",
    "    io=\"http://uk-air.defra.gov.uk/reports/cat09/2010220959_DA_API_1990-2018_V1.0.xlsx\",\n",
    "    sheet_name=\"England API\", \n",
    "    usecols=\"B:AA\",\n",
    "    skiprows=13  \n",
    "    )\n",
    "\n",
    "df_raw"
   ]
  },
  {
   "source": [
    "## Filter rows\n",
    "\n",
    "The [`query` method](https://pandas.pydata.org/pandas-docs/stable/reference/api/pandas.DataFrame.query.html) fliters the specified column using the specified values.\n",
    "\n",
    "The `expr` parameter takes an [expression](https://docs.python.org/3/reference/expressions.html) to be evaluated as an [argument](https://docs.python.org/3/glossary.html#term-argument). This syntax for this expression is `'column_name` [`comparison_operator`](https://docs.python.org/3/reference/expressions.html#comparisons) `value(s)'`. \n",
    "\n",
    "The expression `'ShortPollName == [\"NH3 Total\", \"NOx Total\", \"SO2 Total\", \"VOC Total\", \"PM2.5 Total\"]'` means return rows were `ShortPollName` is equal to (`==`) any of the values in the list `[\"NH3 Total\", \"NOx Total\", \"SO2 Total\", \"VOC Total\", \"PM2.5 Total\"]`. \n",
    "\n",
    "\n"
   ],
   "cell_type": "markdown",
   "metadata": {}
  },
  {
   "cell_type": "code",
   "execution_count": 3,
   "metadata": {},
   "outputs": [
    {
     "output_type": "execute_result",
     "data": {
      "text/plain": [
       "     ShortPollName NFRCode SourceName         1990         1995         1998  \\\n",
       "337      NOx Total     NaN        NaN  2397.847344  1945.014746  1646.545024   \n",
       "791    PM2.5 Total     NaN        NaN   174.144903   135.004607   121.529144   \n",
       "906      SO2 Total     NaN        NaN  3134.835121  2019.423573  1396.569378   \n",
       "1150     VOC Total     NaN        NaN  2109.138181  1651.104184  1405.042632   \n",
       "1262     NH3 Total     NaN        NaN   232.760876   207.731501   219.459243   \n",
       "\n",
       "             1999         2000         2001         2002  ...        2009  \\\n",
       "337   1549.651242  1480.364245  1454.626845  1375.173857  ...  927.922721   \n",
       "791    120.441788   109.819938   109.660650    98.334888  ...   84.650568   \n",
       "906   1052.827899   993.424139   919.358221   838.663774  ...  311.556834   \n",
       "1150  1264.700141  1147.392590  1093.962465  1013.626240  ...  625.994844   \n",
       "1262   215.018390   209.947757   202.172804   201.042769  ...  177.554475   \n",
       "\n",
       "            2010        2011        2012        2013        2014        2015  \\\n",
       "337   903.036656  842.171153  859.742287  811.687614  757.196642  718.376897   \n",
       "791    90.751568   81.645427   86.531421   87.768569   82.850096   83.087125   \n",
       "906   312.140000  303.511355  352.775618  300.543636  245.606037  183.677453   \n",
       "1150  605.245837  587.781187  569.848492  546.189339  542.779640  539.211414   \n",
       "1262  177.470159  181.568684  178.212905  174.402987  184.473002  187.422548   \n",
       "\n",
       "            2016        2017        2018  \n",
       "337   641.083469  625.991775  604.799111  \n",
       "791    81.753703   81.518031   83.142806  \n",
       "906   128.790102  131.065832  118.684955  \n",
       "1150  527.043135  527.189567  526.173425  \n",
       "1262  188.836776  189.996170  189.813783  \n",
       "\n",
       "[5 rows x 26 columns]"
      ],
      "text/html": "<div>\n<style scoped>\n    .dataframe tbody tr th:only-of-type {\n        vertical-align: middle;\n    }\n\n    .dataframe tbody tr th {\n        vertical-align: top;\n    }\n\n    .dataframe thead th {\n        text-align: right;\n    }\n</style>\n<table border=\"1\" class=\"dataframe\">\n  <thead>\n    <tr style=\"text-align: right;\">\n      <th></th>\n      <th>ShortPollName</th>\n      <th>NFRCode</th>\n      <th>SourceName</th>\n      <th>1990</th>\n      <th>1995</th>\n      <th>1998</th>\n      <th>1999</th>\n      <th>2000</th>\n      <th>2001</th>\n      <th>2002</th>\n      <th>...</th>\n      <th>2009</th>\n      <th>2010</th>\n      <th>2011</th>\n      <th>2012</th>\n      <th>2013</th>\n      <th>2014</th>\n      <th>2015</th>\n      <th>2016</th>\n      <th>2017</th>\n      <th>2018</th>\n    </tr>\n  </thead>\n  <tbody>\n    <tr>\n      <th>337</th>\n      <td>NOx Total</td>\n      <td>NaN</td>\n      <td>NaN</td>\n      <td>2397.847344</td>\n      <td>1945.014746</td>\n      <td>1646.545024</td>\n      <td>1549.651242</td>\n      <td>1480.364245</td>\n      <td>1454.626845</td>\n      <td>1375.173857</td>\n      <td>...</td>\n      <td>927.922721</td>\n      <td>903.036656</td>\n      <td>842.171153</td>\n      <td>859.742287</td>\n      <td>811.687614</td>\n      <td>757.196642</td>\n      <td>718.376897</td>\n      <td>641.083469</td>\n      <td>625.991775</td>\n      <td>604.799111</td>\n    </tr>\n    <tr>\n      <th>791</th>\n      <td>PM2.5 Total</td>\n      <td>NaN</td>\n      <td>NaN</td>\n      <td>174.144903</td>\n      <td>135.004607</td>\n      <td>121.529144</td>\n      <td>120.441788</td>\n      <td>109.819938</td>\n      <td>109.660650</td>\n      <td>98.334888</td>\n      <td>...</td>\n      <td>84.650568</td>\n      <td>90.751568</td>\n      <td>81.645427</td>\n      <td>86.531421</td>\n      <td>87.768569</td>\n      <td>82.850096</td>\n      <td>83.087125</td>\n      <td>81.753703</td>\n      <td>81.518031</td>\n      <td>83.142806</td>\n    </tr>\n    <tr>\n      <th>906</th>\n      <td>SO2 Total</td>\n      <td>NaN</td>\n      <td>NaN</td>\n      <td>3134.835121</td>\n      <td>2019.423573</td>\n      <td>1396.569378</td>\n      <td>1052.827899</td>\n      <td>993.424139</td>\n      <td>919.358221</td>\n      <td>838.663774</td>\n      <td>...</td>\n      <td>311.556834</td>\n      <td>312.140000</td>\n      <td>303.511355</td>\n      <td>352.775618</td>\n      <td>300.543636</td>\n      <td>245.606037</td>\n      <td>183.677453</td>\n      <td>128.790102</td>\n      <td>131.065832</td>\n      <td>118.684955</td>\n    </tr>\n    <tr>\n      <th>1150</th>\n      <td>VOC Total</td>\n      <td>NaN</td>\n      <td>NaN</td>\n      <td>2109.138181</td>\n      <td>1651.104184</td>\n      <td>1405.042632</td>\n      <td>1264.700141</td>\n      <td>1147.392590</td>\n      <td>1093.962465</td>\n      <td>1013.626240</td>\n      <td>...</td>\n      <td>625.994844</td>\n      <td>605.245837</td>\n      <td>587.781187</td>\n      <td>569.848492</td>\n      <td>546.189339</td>\n      <td>542.779640</td>\n      <td>539.211414</td>\n      <td>527.043135</td>\n      <td>527.189567</td>\n      <td>526.173425</td>\n    </tr>\n    <tr>\n      <th>1262</th>\n      <td>NH3 Total</td>\n      <td>NaN</td>\n      <td>NaN</td>\n      <td>232.760876</td>\n      <td>207.731501</td>\n      <td>219.459243</td>\n      <td>215.018390</td>\n      <td>209.947757</td>\n      <td>202.172804</td>\n      <td>201.042769</td>\n      <td>...</td>\n      <td>177.554475</td>\n      <td>177.470159</td>\n      <td>181.568684</td>\n      <td>178.212905</td>\n      <td>174.402987</td>\n      <td>184.473002</td>\n      <td>187.422548</td>\n      <td>188.836776</td>\n      <td>189.996170</td>\n      <td>189.813783</td>\n    </tr>\n  </tbody>\n</table>\n<p>5 rows × 26 columns</p>\n</div>"
     },
     "metadata": {},
     "execution_count": 3
    }
   ],
   "source": [
    "df_filtered_rows = (df_raw\n",
    "    .query(\n",
    "        expr='ShortPollName == [\"NH3 Total\", \"NOx Total\", \"SO2 Total\", \"VOC Total\", \"PM2.5 Total\"]'\n",
    "        ))\n",
    "\n",
    "df_filtered_rows"
   ]
  },
  {
   "source": [
    "## Drop unnecessary columns\n",
    "The [drop method](https://pandas.pydata.org/pandas-docs/stable/reference/api/pandas.DataFrame.drop.html) removes the specified columns."
   ],
   "cell_type": "markdown",
   "metadata": {}
  },
  {
   "cell_type": "code",
   "execution_count": 4,
   "metadata": {},
   "outputs": [
    {
     "output_type": "execute_result",
     "data": {
      "text/plain": [
       "     ShortPollName         1990         1995         1998         1999  \\\n",
       "337      NOx Total  2397.847344  1945.014746  1646.545024  1549.651242   \n",
       "791    PM2.5 Total   174.144903   135.004607   121.529144   120.441788   \n",
       "906      SO2 Total  3134.835121  2019.423573  1396.569378  1052.827899   \n",
       "1150     VOC Total  2109.138181  1651.104184  1405.042632  1264.700141   \n",
       "1262     NH3 Total   232.760876   207.731501   219.459243   215.018390   \n",
       "\n",
       "             2000         2001         2002         2003         2004  ...  \\\n",
       "337   1480.364245  1454.626845  1375.173857  1364.114058  1320.675860  ...   \n",
       "791    109.819938   109.660650    98.334888    99.880007    97.109635  ...   \n",
       "906    993.424139   919.358221   838.663774   828.670702   690.699715  ...   \n",
       "1150  1147.392590  1093.962465  1013.626240   951.860757   894.585081  ...   \n",
       "1262   209.947757   202.172804   201.042769   194.227107   198.347573  ...   \n",
       "\n",
       "            2009        2010        2011        2012        2013        2014  \\\n",
       "337   927.922721  903.036656  842.171153  859.742287  811.687614  757.196642   \n",
       "791    84.650568   90.751568   81.645427   86.531421   87.768569   82.850096   \n",
       "906   311.556834  312.140000  303.511355  352.775618  300.543636  245.606037   \n",
       "1150  625.994844  605.245837  587.781187  569.848492  546.189339  542.779640   \n",
       "1262  177.554475  177.470159  181.568684  178.212905  174.402987  184.473002   \n",
       "\n",
       "            2015        2016        2017        2018  \n",
       "337   718.376897  641.083469  625.991775  604.799111  \n",
       "791    83.087125   81.753703   81.518031   83.142806  \n",
       "906   183.677453  128.790102  131.065832  118.684955  \n",
       "1150  539.211414  527.043135  527.189567  526.173425  \n",
       "1262  187.422548  188.836776  189.996170  189.813783  \n",
       "\n",
       "[5 rows x 24 columns]"
      ],
      "text/html": "<div>\n<style scoped>\n    .dataframe tbody tr th:only-of-type {\n        vertical-align: middle;\n    }\n\n    .dataframe tbody tr th {\n        vertical-align: top;\n    }\n\n    .dataframe thead th {\n        text-align: right;\n    }\n</style>\n<table border=\"1\" class=\"dataframe\">\n  <thead>\n    <tr style=\"text-align: right;\">\n      <th></th>\n      <th>ShortPollName</th>\n      <th>1990</th>\n      <th>1995</th>\n      <th>1998</th>\n      <th>1999</th>\n      <th>2000</th>\n      <th>2001</th>\n      <th>2002</th>\n      <th>2003</th>\n      <th>2004</th>\n      <th>...</th>\n      <th>2009</th>\n      <th>2010</th>\n      <th>2011</th>\n      <th>2012</th>\n      <th>2013</th>\n      <th>2014</th>\n      <th>2015</th>\n      <th>2016</th>\n      <th>2017</th>\n      <th>2018</th>\n    </tr>\n  </thead>\n  <tbody>\n    <tr>\n      <th>337</th>\n      <td>NOx Total</td>\n      <td>2397.847344</td>\n      <td>1945.014746</td>\n      <td>1646.545024</td>\n      <td>1549.651242</td>\n      <td>1480.364245</td>\n      <td>1454.626845</td>\n      <td>1375.173857</td>\n      <td>1364.114058</td>\n      <td>1320.675860</td>\n      <td>...</td>\n      <td>927.922721</td>\n      <td>903.036656</td>\n      <td>842.171153</td>\n      <td>859.742287</td>\n      <td>811.687614</td>\n      <td>757.196642</td>\n      <td>718.376897</td>\n      <td>641.083469</td>\n      <td>625.991775</td>\n      <td>604.799111</td>\n    </tr>\n    <tr>\n      <th>791</th>\n      <td>PM2.5 Total</td>\n      <td>174.144903</td>\n      <td>135.004607</td>\n      <td>121.529144</td>\n      <td>120.441788</td>\n      <td>109.819938</td>\n      <td>109.660650</td>\n      <td>98.334888</td>\n      <td>99.880007</td>\n      <td>97.109635</td>\n      <td>...</td>\n      <td>84.650568</td>\n      <td>90.751568</td>\n      <td>81.645427</td>\n      <td>86.531421</td>\n      <td>87.768569</td>\n      <td>82.850096</td>\n      <td>83.087125</td>\n      <td>81.753703</td>\n      <td>81.518031</td>\n      <td>83.142806</td>\n    </tr>\n    <tr>\n      <th>906</th>\n      <td>SO2 Total</td>\n      <td>3134.835121</td>\n      <td>2019.423573</td>\n      <td>1396.569378</td>\n      <td>1052.827899</td>\n      <td>993.424139</td>\n      <td>919.358221</td>\n      <td>838.663774</td>\n      <td>828.670702</td>\n      <td>690.699715</td>\n      <td>...</td>\n      <td>311.556834</td>\n      <td>312.140000</td>\n      <td>303.511355</td>\n      <td>352.775618</td>\n      <td>300.543636</td>\n      <td>245.606037</td>\n      <td>183.677453</td>\n      <td>128.790102</td>\n      <td>131.065832</td>\n      <td>118.684955</td>\n    </tr>\n    <tr>\n      <th>1150</th>\n      <td>VOC Total</td>\n      <td>2109.138181</td>\n      <td>1651.104184</td>\n      <td>1405.042632</td>\n      <td>1264.700141</td>\n      <td>1147.392590</td>\n      <td>1093.962465</td>\n      <td>1013.626240</td>\n      <td>951.860757</td>\n      <td>894.585081</td>\n      <td>...</td>\n      <td>625.994844</td>\n      <td>605.245837</td>\n      <td>587.781187</td>\n      <td>569.848492</td>\n      <td>546.189339</td>\n      <td>542.779640</td>\n      <td>539.211414</td>\n      <td>527.043135</td>\n      <td>527.189567</td>\n      <td>526.173425</td>\n    </tr>\n    <tr>\n      <th>1262</th>\n      <td>NH3 Total</td>\n      <td>232.760876</td>\n      <td>207.731501</td>\n      <td>219.459243</td>\n      <td>215.018390</td>\n      <td>209.947757</td>\n      <td>202.172804</td>\n      <td>201.042769</td>\n      <td>194.227107</td>\n      <td>198.347573</td>\n      <td>...</td>\n      <td>177.554475</td>\n      <td>177.470159</td>\n      <td>181.568684</td>\n      <td>178.212905</td>\n      <td>174.402987</td>\n      <td>184.473002</td>\n      <td>187.422548</td>\n      <td>188.836776</td>\n      <td>189.996170</td>\n      <td>189.813783</td>\n    </tr>\n  </tbody>\n</table>\n<p>5 rows × 24 columns</p>\n</div>"
     },
     "metadata": {},
     "execution_count": 4
    }
   ],
   "source": [
    "df_filtered_cols = (df_filtered_rows\n",
    "    .drop(\n",
    "        columns=['NFRCode', 'SourceName']\n",
    "        ))\n",
    "\n",
    "df_filtered_cols\n"
   ]
  },
  {
   "source": [
    "## Clean data\n",
    "\n",
    "The [`assign` method](https://pandas.pydata.org/docs/reference/api/pandas.DataFrame.assign.html?highlight=assign#pandas.DataFrame.assign) creates a new column or transforms an existing column. The syntax is `column_name=expression`, where the `expression` generates the values for the column `column_name`.\n",
    "\n",
    "I want to remove the string `' Total'` from every row in the `ShortPollName` column and change `'VOC'` to `'NMVOC'`. To do this, I specify the column using `df.column_name`, then call the [`str.replace` method](https://pandas.pydata.org/docs/reference/api/pandas.Series.str.replace.html#pandas.Series.str.replace) on it twice. The first `str.replace` method replaces all occurances of the pattern `' Total'` with nothing (the equivalent of removing it) and the second call replaces occuances of the pattern `'VOC'` with `'NMVOC'`.   "
   ],
   "cell_type": "markdown",
   "metadata": {}
  },
  {
   "cell_type": "code",
   "execution_count": 5,
   "metadata": {},
   "outputs": [
    {
     "output_type": "execute_result",
     "data": {
      "text/plain": [
       "     ShortPollName         1990         1995         1998         1999  \\\n",
       "337            NOx  2397.847344  1945.014746  1646.545024  1549.651242   \n",
       "791          PM2.5   174.144903   135.004607   121.529144   120.441788   \n",
       "906            SO2  3134.835121  2019.423573  1396.569378  1052.827899   \n",
       "1150         NMVOC  2109.138181  1651.104184  1405.042632  1264.700141   \n",
       "1262           NH3   232.760876   207.731501   219.459243   215.018390   \n",
       "\n",
       "             2000         2001         2002         2003         2004  ...  \\\n",
       "337   1480.364245  1454.626845  1375.173857  1364.114058  1320.675860  ...   \n",
       "791    109.819938   109.660650    98.334888    99.880007    97.109635  ...   \n",
       "906    993.424139   919.358221   838.663774   828.670702   690.699715  ...   \n",
       "1150  1147.392590  1093.962465  1013.626240   951.860757   894.585081  ...   \n",
       "1262   209.947757   202.172804   201.042769   194.227107   198.347573  ...   \n",
       "\n",
       "            2009        2010        2011        2012        2013        2014  \\\n",
       "337   927.922721  903.036656  842.171153  859.742287  811.687614  757.196642   \n",
       "791    84.650568   90.751568   81.645427   86.531421   87.768569   82.850096   \n",
       "906   311.556834  312.140000  303.511355  352.775618  300.543636  245.606037   \n",
       "1150  625.994844  605.245837  587.781187  569.848492  546.189339  542.779640   \n",
       "1262  177.554475  177.470159  181.568684  178.212905  174.402987  184.473002   \n",
       "\n",
       "            2015        2016        2017        2018  \n",
       "337   718.376897  641.083469  625.991775  604.799111  \n",
       "791    83.087125   81.753703   81.518031   83.142806  \n",
       "906   183.677453  128.790102  131.065832  118.684955  \n",
       "1150  539.211414  527.043135  527.189567  526.173425  \n",
       "1262  187.422548  188.836776  189.996170  189.813783  \n",
       "\n",
       "[5 rows x 24 columns]"
      ],
      "text/html": "<div>\n<style scoped>\n    .dataframe tbody tr th:only-of-type {\n        vertical-align: middle;\n    }\n\n    .dataframe tbody tr th {\n        vertical-align: top;\n    }\n\n    .dataframe thead th {\n        text-align: right;\n    }\n</style>\n<table border=\"1\" class=\"dataframe\">\n  <thead>\n    <tr style=\"text-align: right;\">\n      <th></th>\n      <th>ShortPollName</th>\n      <th>1990</th>\n      <th>1995</th>\n      <th>1998</th>\n      <th>1999</th>\n      <th>2000</th>\n      <th>2001</th>\n      <th>2002</th>\n      <th>2003</th>\n      <th>2004</th>\n      <th>...</th>\n      <th>2009</th>\n      <th>2010</th>\n      <th>2011</th>\n      <th>2012</th>\n      <th>2013</th>\n      <th>2014</th>\n      <th>2015</th>\n      <th>2016</th>\n      <th>2017</th>\n      <th>2018</th>\n    </tr>\n  </thead>\n  <tbody>\n    <tr>\n      <th>337</th>\n      <td>NOx</td>\n      <td>2397.847344</td>\n      <td>1945.014746</td>\n      <td>1646.545024</td>\n      <td>1549.651242</td>\n      <td>1480.364245</td>\n      <td>1454.626845</td>\n      <td>1375.173857</td>\n      <td>1364.114058</td>\n      <td>1320.675860</td>\n      <td>...</td>\n      <td>927.922721</td>\n      <td>903.036656</td>\n      <td>842.171153</td>\n      <td>859.742287</td>\n      <td>811.687614</td>\n      <td>757.196642</td>\n      <td>718.376897</td>\n      <td>641.083469</td>\n      <td>625.991775</td>\n      <td>604.799111</td>\n    </tr>\n    <tr>\n      <th>791</th>\n      <td>PM2.5</td>\n      <td>174.144903</td>\n      <td>135.004607</td>\n      <td>121.529144</td>\n      <td>120.441788</td>\n      <td>109.819938</td>\n      <td>109.660650</td>\n      <td>98.334888</td>\n      <td>99.880007</td>\n      <td>97.109635</td>\n      <td>...</td>\n      <td>84.650568</td>\n      <td>90.751568</td>\n      <td>81.645427</td>\n      <td>86.531421</td>\n      <td>87.768569</td>\n      <td>82.850096</td>\n      <td>83.087125</td>\n      <td>81.753703</td>\n      <td>81.518031</td>\n      <td>83.142806</td>\n    </tr>\n    <tr>\n      <th>906</th>\n      <td>SO2</td>\n      <td>3134.835121</td>\n      <td>2019.423573</td>\n      <td>1396.569378</td>\n      <td>1052.827899</td>\n      <td>993.424139</td>\n      <td>919.358221</td>\n      <td>838.663774</td>\n      <td>828.670702</td>\n      <td>690.699715</td>\n      <td>...</td>\n      <td>311.556834</td>\n      <td>312.140000</td>\n      <td>303.511355</td>\n      <td>352.775618</td>\n      <td>300.543636</td>\n      <td>245.606037</td>\n      <td>183.677453</td>\n      <td>128.790102</td>\n      <td>131.065832</td>\n      <td>118.684955</td>\n    </tr>\n    <tr>\n      <th>1150</th>\n      <td>NMVOC</td>\n      <td>2109.138181</td>\n      <td>1651.104184</td>\n      <td>1405.042632</td>\n      <td>1264.700141</td>\n      <td>1147.392590</td>\n      <td>1093.962465</td>\n      <td>1013.626240</td>\n      <td>951.860757</td>\n      <td>894.585081</td>\n      <td>...</td>\n      <td>625.994844</td>\n      <td>605.245837</td>\n      <td>587.781187</td>\n      <td>569.848492</td>\n      <td>546.189339</td>\n      <td>542.779640</td>\n      <td>539.211414</td>\n      <td>527.043135</td>\n      <td>527.189567</td>\n      <td>526.173425</td>\n    </tr>\n    <tr>\n      <th>1262</th>\n      <td>NH3</td>\n      <td>232.760876</td>\n      <td>207.731501</td>\n      <td>219.459243</td>\n      <td>215.018390</td>\n      <td>209.947757</td>\n      <td>202.172804</td>\n      <td>201.042769</td>\n      <td>194.227107</td>\n      <td>198.347573</td>\n      <td>...</td>\n      <td>177.554475</td>\n      <td>177.470159</td>\n      <td>181.568684</td>\n      <td>178.212905</td>\n      <td>174.402987</td>\n      <td>184.473002</td>\n      <td>187.422548</td>\n      <td>188.836776</td>\n      <td>189.996170</td>\n      <td>189.813783</td>\n    </tr>\n  </tbody>\n</table>\n<p>5 rows × 24 columns</p>\n</div>"
     },
     "metadata": {},
     "execution_count": 5
    }
   ],
   "source": [
    "df_cleaned = (df_filtered_cols\n",
    "    .assign(\n",
    "        ShortPollName=(df_filtered_cols\n",
    "        .ShortPollName\n",
    "        .str.replace(\n",
    "            pat=' Total',\n",
    "            repl=''\n",
    "            )\n",
    "        .str.replace(\n",
    "            pat='VOC',\n",
    "            repl='NMVOC'\n",
    "            ))\n",
    "        ))\n",
    "\n",
    "df_cleaned"
   ]
  },
  {
   "source": [
    "## Tidy data\n",
    "The [melt method](https://pandas.pydata.org/pandas-docs/stable/reference/api/pandas.DataFrame.melt.html) unpivots wider-format dataframes into a longer-format. This is tidier, as the variable `Year` is now captured in a column instead of a column header, but it also allows us to perform vecortised computations on the `Emissions` column.\n",
    "\n",
    "The `id_vars` parameter specifies the column(s) that identify each observation. The `var_name` parameter defines the name of the column that will store the un-pivoted column names. The `value_nam` parameter defines the name of the column that will store the un-pivoted values.\n",
    "\n",
    "For more information about the theory and benefits of the tidy data format see [Wickham, Hadley . \"Tidy Data.\" Journal of Statistical Software [Online], 59.10 (2014): 1 - 23. Web. 20 Nov. 2020](http://dx.doi.org/10.18637/jss.v059.i10)"
   ],
   "cell_type": "markdown",
   "metadata": {}
  },
  {
   "cell_type": "code",
   "execution_count": 6,
   "metadata": {},
   "outputs": [
    {
     "output_type": "execute_result",
     "data": {
      "text/plain": [
       "    ShortPollName  Year    Emissions\n",
       "0             NOx  1990  2397.847344\n",
       "1           PM2.5  1990   174.144903\n",
       "2             SO2  1990  3134.835121\n",
       "3           NMVOC  1990  2109.138181\n",
       "4             NH3  1990   232.760876\n",
       "..            ...   ...          ...\n",
       "110           NOx  2018   604.799111\n",
       "111         PM2.5  2018    83.142806\n",
       "112           SO2  2018   118.684955\n",
       "113         NMVOC  2018   526.173425\n",
       "114           NH3  2018   189.813783\n",
       "\n",
       "[115 rows x 3 columns]"
      ],
      "text/html": "<div>\n<style scoped>\n    .dataframe tbody tr th:only-of-type {\n        vertical-align: middle;\n    }\n\n    .dataframe tbody tr th {\n        vertical-align: top;\n    }\n\n    .dataframe thead th {\n        text-align: right;\n    }\n</style>\n<table border=\"1\" class=\"dataframe\">\n  <thead>\n    <tr style=\"text-align: right;\">\n      <th></th>\n      <th>ShortPollName</th>\n      <th>Year</th>\n      <th>Emissions</th>\n    </tr>\n  </thead>\n  <tbody>\n    <tr>\n      <th>0</th>\n      <td>NOx</td>\n      <td>1990</td>\n      <td>2397.847344</td>\n    </tr>\n    <tr>\n      <th>1</th>\n      <td>PM2.5</td>\n      <td>1990</td>\n      <td>174.144903</td>\n    </tr>\n    <tr>\n      <th>2</th>\n      <td>SO2</td>\n      <td>1990</td>\n      <td>3134.835121</td>\n    </tr>\n    <tr>\n      <th>3</th>\n      <td>NMVOC</td>\n      <td>1990</td>\n      <td>2109.138181</td>\n    </tr>\n    <tr>\n      <th>4</th>\n      <td>NH3</td>\n      <td>1990</td>\n      <td>232.760876</td>\n    </tr>\n    <tr>\n      <th>...</th>\n      <td>...</td>\n      <td>...</td>\n      <td>...</td>\n    </tr>\n    <tr>\n      <th>110</th>\n      <td>NOx</td>\n      <td>2018</td>\n      <td>604.799111</td>\n    </tr>\n    <tr>\n      <th>111</th>\n      <td>PM2.5</td>\n      <td>2018</td>\n      <td>83.142806</td>\n    </tr>\n    <tr>\n      <th>112</th>\n      <td>SO2</td>\n      <td>2018</td>\n      <td>118.684955</td>\n    </tr>\n    <tr>\n      <th>113</th>\n      <td>NMVOC</td>\n      <td>2018</td>\n      <td>526.173425</td>\n    </tr>\n    <tr>\n      <th>114</th>\n      <td>NH3</td>\n      <td>2018</td>\n      <td>189.813783</td>\n    </tr>\n  </tbody>\n</table>\n<p>115 rows × 3 columns</p>\n</div>"
     },
     "metadata": {},
     "execution_count": 6
    }
   ],
   "source": [
    "df_tidied = (df_cleaned\n",
    "    .melt(\n",
    "        id_vars='ShortPollName', \n",
    "        var_name='Year', \n",
    "        value_name='Emissions'\n",
    "        ))\n",
    "\n",
    "df_tidied\n"
   ]
  },
  {
   "source": [
    "## Filter tidied data\n",
    "\n",
    "As the `Year` values are now stored in a column, it's very easy to filter the dataset by year."
   ],
   "cell_type": "markdown",
   "metadata": {}
  },
  {
   "cell_type": "code",
   "execution_count": 7,
   "metadata": {},
   "outputs": [
    {
     "output_type": "execute_result",
     "data": {
      "text/plain": [
       "    ShortPollName  Year    Emissions\n",
       "10            NOx  1998  1646.545024\n",
       "11          PM2.5  1998   121.529144\n",
       "12            SO2  1998  1396.569378\n",
       "13          NMVOC  1998  1405.042632\n",
       "14            NH3  1998   219.459243\n",
       "..            ...   ...          ...\n",
       "110           NOx  2018   604.799111\n",
       "111         PM2.5  2018    83.142806\n",
       "112           SO2  2018   118.684955\n",
       "113         NMVOC  2018   526.173425\n",
       "114           NH3  2018   189.813783\n",
       "\n",
       "[105 rows x 3 columns]"
      ],
      "text/html": "<div>\n<style scoped>\n    .dataframe tbody tr th:only-of-type {\n        vertical-align: middle;\n    }\n\n    .dataframe tbody tr th {\n        vertical-align: top;\n    }\n\n    .dataframe thead th {\n        text-align: right;\n    }\n</style>\n<table border=\"1\" class=\"dataframe\">\n  <thead>\n    <tr style=\"text-align: right;\">\n      <th></th>\n      <th>ShortPollName</th>\n      <th>Year</th>\n      <th>Emissions</th>\n    </tr>\n  </thead>\n  <tbody>\n    <tr>\n      <th>10</th>\n      <td>NOx</td>\n      <td>1998</td>\n      <td>1646.545024</td>\n    </tr>\n    <tr>\n      <th>11</th>\n      <td>PM2.5</td>\n      <td>1998</td>\n      <td>121.529144</td>\n    </tr>\n    <tr>\n      <th>12</th>\n      <td>SO2</td>\n      <td>1998</td>\n      <td>1396.569378</td>\n    </tr>\n    <tr>\n      <th>13</th>\n      <td>NMVOC</td>\n      <td>1998</td>\n      <td>1405.042632</td>\n    </tr>\n    <tr>\n      <th>14</th>\n      <td>NH3</td>\n      <td>1998</td>\n      <td>219.459243</td>\n    </tr>\n    <tr>\n      <th>...</th>\n      <td>...</td>\n      <td>...</td>\n      <td>...</td>\n    </tr>\n    <tr>\n      <th>110</th>\n      <td>NOx</td>\n      <td>2018</td>\n      <td>604.799111</td>\n    </tr>\n    <tr>\n      <th>111</th>\n      <td>PM2.5</td>\n      <td>2018</td>\n      <td>83.142806</td>\n    </tr>\n    <tr>\n      <th>112</th>\n      <td>SO2</td>\n      <td>2018</td>\n      <td>118.684955</td>\n    </tr>\n    <tr>\n      <th>113</th>\n      <td>NMVOC</td>\n      <td>2018</td>\n      <td>526.173425</td>\n    </tr>\n    <tr>\n      <th>114</th>\n      <td>NH3</td>\n      <td>2018</td>\n      <td>189.813783</td>\n    </tr>\n  </tbody>\n</table>\n<p>105 rows × 3 columns</p>\n</div>"
     },
     "metadata": {},
     "execution_count": 7
    }
   ],
   "source": [
    "df_tidied_filtered = (df_tidied\n",
    "    .query(\n",
    "        expr='Year >= 1998'\n",
    "        ))\n",
    "\n",
    "df_tidied_filtered"
   ]
  },
  {
   "source": [
    "## Add the Index column\n",
    "\n",
    "Use the `assign` method to derived a new column called `Index` from the `Emissions` column. The `Emissions` value for each pollutant should be indexed to 1998.\n",
    "\n",
    "The [`groupby` method](https://pandas.pydata.org/pandas-docs/stable/reference/api/pandas.DataFrame.groupby.html?highlight=groupby#pandas.DataFrame.groupby) indicates that the following methods should be applied to each group separately. The `Emissions` [attribute](https://pandas.pydata.org/pandas-docs/stable/user_guide/indexing.html?highlight=attributes#attribute-access) indicates that following method will only be called on the `Emissions` column. The [`apply` method](https://pandas.pydata.org/pandas-docs/stable/reference/api/pandas.core.groupby.GroupBy.apply.html?highlight=apply#pandas.core.groupby.GroupBy.apply) applies the specified function to each item in the group.\n",
    "\n",
    "The [`lambda` keyword](https://docs.python.org/3/tutorial/controlflow.html#lambda-expressions) allows us to define an anonymous function. \n",
    "\n",
    "Calling the [`div` method](https://pandas.pydata.org/pandas-docs/stable/reference/api/pandas.Series.div.html) on series `x` with argument `y` -- `x.div(y)` -- divides each item in `x` by `y`.\n",
    "\n",
    "Calling the [`iloc` method](https://pandas.pydata.org/pandas-docs/stable/reference/api/pandas.Series.iloc.html) on series `x` with argument `y`  -- `x.iloc[y]` -- returns the item at index postion `y` in the series `x`. Notes that Python uses zero-based indexed, so calling `iloc[0]` on x returns the first item, and that it uses square brackets for indexing.\n",
    "\n",
    "Calling the [`mul` method](https://pandas.pydata.org/pandas-docs/stable/reference/api/pandas.Series.mul.html) on object `x` with argument `y` -- `x.mul(y)` -- multiplies each item in `x` by `y`.\n"
   ],
   "cell_type": "markdown",
   "metadata": {}
  },
  {
   "cell_type": "code",
   "execution_count": 8,
   "metadata": {},
   "outputs": [
    {
     "output_type": "execute_result",
     "data": {
      "text/plain": [
       "    ShortPollName  Year    Emissions       Index\n",
       "10            NOx  1998  1646.545024  100.000000\n",
       "11          PM2.5  1998   121.529144  100.000000\n",
       "12            SO2  1998  1396.569378  100.000000\n",
       "13          NMVOC  1998  1405.042632  100.000000\n",
       "14            NH3  1998   219.459243  100.000000\n",
       "..            ...   ...          ...         ...\n",
       "110           NOx  2018   604.799111   36.731404\n",
       "111         PM2.5  2018    83.142806   68.413883\n",
       "112           SO2  2018   118.684955    8.498321\n",
       "113         NMVOC  2018   526.173425   37.448929\n",
       "114           NH3  2018   189.813783   86.491588\n",
       "\n",
       "[105 rows x 4 columns]"
      ],
      "text/html": "<div>\n<style scoped>\n    .dataframe tbody tr th:only-of-type {\n        vertical-align: middle;\n    }\n\n    .dataframe tbody tr th {\n        vertical-align: top;\n    }\n\n    .dataframe thead th {\n        text-align: right;\n    }\n</style>\n<table border=\"1\" class=\"dataframe\">\n  <thead>\n    <tr style=\"text-align: right;\">\n      <th></th>\n      <th>ShortPollName</th>\n      <th>Year</th>\n      <th>Emissions</th>\n      <th>Index</th>\n    </tr>\n  </thead>\n  <tbody>\n    <tr>\n      <th>10</th>\n      <td>NOx</td>\n      <td>1998</td>\n      <td>1646.545024</td>\n      <td>100.000000</td>\n    </tr>\n    <tr>\n      <th>11</th>\n      <td>PM2.5</td>\n      <td>1998</td>\n      <td>121.529144</td>\n      <td>100.000000</td>\n    </tr>\n    <tr>\n      <th>12</th>\n      <td>SO2</td>\n      <td>1998</td>\n      <td>1396.569378</td>\n      <td>100.000000</td>\n    </tr>\n    <tr>\n      <th>13</th>\n      <td>NMVOC</td>\n      <td>1998</td>\n      <td>1405.042632</td>\n      <td>100.000000</td>\n    </tr>\n    <tr>\n      <th>14</th>\n      <td>NH3</td>\n      <td>1998</td>\n      <td>219.459243</td>\n      <td>100.000000</td>\n    </tr>\n    <tr>\n      <th>...</th>\n      <td>...</td>\n      <td>...</td>\n      <td>...</td>\n      <td>...</td>\n    </tr>\n    <tr>\n      <th>110</th>\n      <td>NOx</td>\n      <td>2018</td>\n      <td>604.799111</td>\n      <td>36.731404</td>\n    </tr>\n    <tr>\n      <th>111</th>\n      <td>PM2.5</td>\n      <td>2018</td>\n      <td>83.142806</td>\n      <td>68.413883</td>\n    </tr>\n    <tr>\n      <th>112</th>\n      <td>SO2</td>\n      <td>2018</td>\n      <td>118.684955</td>\n      <td>8.498321</td>\n    </tr>\n    <tr>\n      <th>113</th>\n      <td>NMVOC</td>\n      <td>2018</td>\n      <td>526.173425</td>\n      <td>37.448929</td>\n    </tr>\n    <tr>\n      <th>114</th>\n      <td>NH3</td>\n      <td>2018</td>\n      <td>189.813783</td>\n      <td>86.491588</td>\n    </tr>\n  </tbody>\n</table>\n<p>105 rows × 4 columns</p>\n</div>"
     },
     "metadata": {},
     "execution_count": 8
    }
   ],
   "source": [
    "df_tidy_indexed = (df_tidied_filtered\n",
    "    .assign(\n",
    "        Index=(df_tidied_filtered\n",
    "            .groupby('ShortPollName')\n",
    "            .Emissions\n",
    "            .apply(lambda x: (x.div(x.iloc[0]).mul(100))))\n",
    "        ))\n",
    "\n",
    "df_tidy_indexed"
   ]
  },
  {
   "source": [
    "## Reset dataframe index\n",
    "\n",
    "Though not strictly necessary, the [`reset_index` method](https://pandas.pydata.org/pandas-docs/stable/reference/api/pandas.DataFrame.reset_index.html?highlight=reset_index#pandas.DataFrame.reset_index) resets the row numbers."
   ],
   "cell_type": "markdown",
   "metadata": {}
  },
  {
   "cell_type": "code",
   "execution_count": 9,
   "metadata": {},
   "outputs": [
    {
     "output_type": "execute_result",
     "data": {
      "text/plain": [
       "    ShortPollName  Year    Emissions       Index\n",
       "0             NOx  1998  1646.545024  100.000000\n",
       "1           PM2.5  1998   121.529144  100.000000\n",
       "2             SO2  1998  1396.569378  100.000000\n",
       "3           NMVOC  1998  1405.042632  100.000000\n",
       "4             NH3  1998   219.459243  100.000000\n",
       "..            ...   ...          ...         ...\n",
       "100           NOx  2018   604.799111   36.731404\n",
       "101         PM2.5  2018    83.142806   68.413883\n",
       "102           SO2  2018   118.684955    8.498321\n",
       "103         NMVOC  2018   526.173425   37.448929\n",
       "104           NH3  2018   189.813783   86.491588\n",
       "\n",
       "[105 rows x 4 columns]"
      ],
      "text/html": "<div>\n<style scoped>\n    .dataframe tbody tr th:only-of-type {\n        vertical-align: middle;\n    }\n\n    .dataframe tbody tr th {\n        vertical-align: top;\n    }\n\n    .dataframe thead th {\n        text-align: right;\n    }\n</style>\n<table border=\"1\" class=\"dataframe\">\n  <thead>\n    <tr style=\"text-align: right;\">\n      <th></th>\n      <th>ShortPollName</th>\n      <th>Year</th>\n      <th>Emissions</th>\n      <th>Index</th>\n    </tr>\n  </thead>\n  <tbody>\n    <tr>\n      <th>0</th>\n      <td>NOx</td>\n      <td>1998</td>\n      <td>1646.545024</td>\n      <td>100.000000</td>\n    </tr>\n    <tr>\n      <th>1</th>\n      <td>PM2.5</td>\n      <td>1998</td>\n      <td>121.529144</td>\n      <td>100.000000</td>\n    </tr>\n    <tr>\n      <th>2</th>\n      <td>SO2</td>\n      <td>1998</td>\n      <td>1396.569378</td>\n      <td>100.000000</td>\n    </tr>\n    <tr>\n      <th>3</th>\n      <td>NMVOC</td>\n      <td>1998</td>\n      <td>1405.042632</td>\n      <td>100.000000</td>\n    </tr>\n    <tr>\n      <th>4</th>\n      <td>NH3</td>\n      <td>1998</td>\n      <td>219.459243</td>\n      <td>100.000000</td>\n    </tr>\n    <tr>\n      <th>...</th>\n      <td>...</td>\n      <td>...</td>\n      <td>...</td>\n      <td>...</td>\n    </tr>\n    <tr>\n      <th>100</th>\n      <td>NOx</td>\n      <td>2018</td>\n      <td>604.799111</td>\n      <td>36.731404</td>\n    </tr>\n    <tr>\n      <th>101</th>\n      <td>PM2.5</td>\n      <td>2018</td>\n      <td>83.142806</td>\n      <td>68.413883</td>\n    </tr>\n    <tr>\n      <th>102</th>\n      <td>SO2</td>\n      <td>2018</td>\n      <td>118.684955</td>\n      <td>8.498321</td>\n    </tr>\n    <tr>\n      <th>103</th>\n      <td>NMVOC</td>\n      <td>2018</td>\n      <td>526.173425</td>\n      <td>37.448929</td>\n    </tr>\n    <tr>\n      <th>104</th>\n      <td>NH3</td>\n      <td>2018</td>\n      <td>189.813783</td>\n      <td>86.491588</td>\n    </tr>\n  </tbody>\n</table>\n<p>105 rows × 4 columns</p>\n</div>"
     },
     "metadata": {},
     "execution_count": 9
    }
   ],
   "source": [
    "df_processed_step = (df_tidy_indexed\n",
    "    .reset_index(drop=True))\n",
    "\n",
    "df_processed_step\n"
   ]
  },
  {
   "cell_type": "code",
   "execution_count": 13,
   "metadata": {},
   "outputs": [],
   "source": [
    "df_processed_step.to_csv(\n",
    "    path_or_buf=\"/home/edfawcetttaylor/repos/sdg-data-test/data/indicator_A1.csv\",\n",
    "    columns=[\"Year\", \"ShortPollName\", \"Index\"],\n",
    "    header=[\"Year\", \"Pollutant\", \"Value\"],\n",
    "    index=False\n",
    ")"
   ]
  },
  {
   "source": [
    "## Create plot\n",
    "\n",
    "[`px.line`](https://plotly.com/python-api-reference/generated/plotly.express.line.html) creates a line plot.\n",
    "\n",
    "[`update_xaxes` and `update_yaxes`](https://plotly.com/python/axes/#set-axis-title-text-with-graph-objects) provide additional options for customising the x and y axes.\n",
    "\n",
    "[`update_layout`](https://plotly.com/python-api-reference/generated/plotly.graph_objects.Layout.html#plotly.graph_objects.Layout) provides additional options for customising layout elements, such as the legend and cursor interaction.\n",
    "\n",
    "[`add_annotation`](https://plotly.com/python/text-and-annotations/) adds text labels and annotations to plots.\n",
    "\n",
    "[`add_shape`](https://plotly.com/python/shapes/) adds shapes, including lines, to plots.\n"
   ],
   "cell_type": "markdown",
   "metadata": {}
  },
  {
   "cell_type": "code",
   "execution_count": 31,
   "metadata": {},
   "outputs": [
    {
     "output_type": "display_data",
     "data": {
      "application/vnd.plotly.v1+json": {
       "config": {
        "plotlyServerURL": "https://plot.ly"
       },
       "data": [
        {
         "hovertemplate": "Pollutant=NOx<br>Year=%{x}<br>Index=%{y}<extra></extra>",
         "legendgroup": "NOx",
         "line": {
          "color": "Grey",
          "dash": "solid"
         },
         "mode": "lines",
         "name": "NOx",
         "orientation": "v",
         "showlegend": true,
         "type": "scatter",
         "x": [
          1998,
          1999,
          2000,
          2001,
          2002,
          2003,
          2004,
          2005,
          2006,
          2007,
          2008,
          2009,
          2010,
          2011,
          2012,
          2013,
          2014,
          2015,
          2016,
          2017,
          2018
         ],
         "xaxis": "x",
         "y": [
          100,
          94.11532751390368,
          89.9073042964407,
          88.3441888260992,
          83.51875213349167,
          82.84705481816793,
          80.2089126452926,
          79.77478445346688,
          76.29877135695723,
          74.06555484719824,
          65.11667041450127,
          56.35574539975276,
          54.84433425595686,
          51.147775565904716,
          52.21492731707019,
          49.29641174052905,
          45.986998936726565,
          43.6293503663838,
          38.935070687401016,
          38.01850332932381,
          36.731404361873366
         ],
         "yaxis": "y"
        },
        {
         "hovertemplate": "Pollutant=PM2.5<br>Year=%{x}<br>Index=%{y}<extra></extra>",
         "legendgroup": "PM2.5",
         "line": {
          "color": "#00AF41",
          "dash": "dash"
         },
         "mode": "lines",
         "name": "PM2.5",
         "orientation": "v",
         "showlegend": true,
         "type": "scatter",
         "x": [
          1998,
          1999,
          2000,
          2001,
          2002,
          2003,
          2004,
          2005,
          2006,
          2007,
          2008,
          2009,
          2010,
          2011,
          2012,
          2013,
          2014,
          2015,
          2016,
          2017,
          2018
         ],
         "xaxis": "x",
         "y": [
          100,
          99.10527200692871,
          90.36510476885418,
          90.23403460504474,
          80.91465558386707,
          82.18605340527816,
          79.90645894333663,
          78.53343405009355,
          76.72253495654856,
          72.81450071820292,
          73.14282106510852,
          69.65454205329361,
          74.67473670418096,
          67.18176796800769,
          71.20219802489613,
          72.22018218416709,
          68.17302694310469,
          68.3680661379518,
          67.27086233518706,
          67.0769404739628,
          68.41388262565621
         ],
         "yaxis": "y"
        },
        {
         "hovertemplate": "Pollutant=SO2<br>Year=%{x}<br>Index=%{y}<extra></extra>",
         "legendgroup": "SO2",
         "line": {
          "color": "#007CBA",
          "dash": "dash"
         },
         "mode": "lines",
         "name": "SO2",
         "orientation": "v",
         "showlegend": true,
         "type": "scatter",
         "x": [
          1998,
          1999,
          2000,
          2001,
          2002,
          2003,
          2004,
          2005,
          2006,
          2007,
          2008,
          2009,
          2010,
          2011,
          2012,
          2013,
          2014,
          2015,
          2016,
          2017,
          2018
         ],
         "xaxis": "x",
         "y": [
          100,
          75.38672375866646,
          71.13317499439178,
          65.82975652042882,
          60.051708701974114,
          59.336164438540294,
          49.45688526383538,
          42.14641235793839,
          38.209535856212376,
          33.76574671468485,
          27.846242321784604,
          22.308725895179396,
          22.35048287503876,
          21.73263715123839,
          25.260157039866414,
          21.520136504777366,
          17.586382793978185,
          13.152046455469913,
          9.221890710939238,
          9.384842201202845,
          8.498321417399401
         ],
         "yaxis": "y"
        },
        {
         "hovertemplate": "Pollutant=NMVOC<br>Year=%{x}<br>Index=%{y}<extra></extra>",
         "legendgroup": "NMVOC",
         "line": {
          "color": "#007CBA",
          "dash": "solid"
         },
         "mode": "lines",
         "name": "NMVOC",
         "orientation": "v",
         "showlegend": true,
         "type": "scatter",
         "x": [
          1998,
          1999,
          2000,
          2001,
          2002,
          2003,
          2004,
          2005,
          2006,
          2007,
          2008,
          2009,
          2010,
          2011,
          2012,
          2013,
          2014,
          2015,
          2016,
          2017,
          2018
         ],
         "xaxis": "x",
         "y": [
          100,
          90.01151370663001,
          81.66247514274093,
          77.8597346336801,
          72.14202735476405,
          67.74604099325104,
          63.66960405243065,
          59.721995658046545,
          56.84246279568964,
          53.87315717251816,
          49.98106494186476,
          44.55344130652961,
          43.07668842283439,
          41.83369057376271,
          40.557380882686886,
          38.87350650342694,
          38.63083066616261,
          38.37687212201866,
          37.51082868905852,
          37.52125057346472,
          37.44892949573585
         ],
         "yaxis": "y"
        },
        {
         "hovertemplate": "Pollutant=NH3<br>Year=%{x}<br>Index=%{y}<extra></extra>",
         "legendgroup": "NH3",
         "line": {
          "color": "#00AF41",
          "dash": "solid"
         },
         "mode": "lines",
         "name": "NH3",
         "orientation": "v",
         "showlegend": true,
         "type": "scatter",
         "x": [
          1998,
          1999,
          2000,
          2001,
          2002,
          2003,
          2004,
          2005,
          2006,
          2007,
          2008,
          2009,
          2010,
          2011,
          2012,
          2013,
          2014,
          2015,
          2016,
          2017,
          2018
         ],
         "xaxis": "x",
         "y": [
          100,
          97.97645693270759,
          95.66594445041883,
          92.12316688160878,
          91.60824862646481,
          88.50258678160543,
          90.38014116642806,
          87.67892921809657,
          86.33386689693937,
          84.70841149343602,
          79.9477989906992,
          80.90544425801679,
          80.86702441760629,
          82.73458066441135,
          81.20546806800928,
          79.4694199269742,
          84.05797787382508,
          85.40198440299683,
          86.0463994090019,
          86.57469493221292,
          86.4915877616286
         ],
         "yaxis": "y"
        }
       ],
       "layout": {
        "annotations": [
         {
          "showarrow": false,
          "text": "<b>Source:</b> Ricardo Energy & Environment",
          "x": -0.15,
          "xanchor": "left",
          "xref": "paper",
          "y": -0.15,
          "yanchor": "top",
          "yref": "paper"
         }
        ],
        "hovermode": "x unified",
        "legend": {
         "title": {
          "text": ""
         },
         "tracegroupgap": 0
        },
        "shapes": [
         {
          "line": {
           "color": "Black",
           "dash": "dot",
           "width": 1
          },
          "type": "line",
          "x0": 1998,
          "x1": 2018,
          "xref": "x",
          "y0": 100,
          "y1": 100,
          "yref": "y"
         }
        ],
        "template": {
         "data": {
          "bar": [
           {
            "error_x": {
             "color": "rgb(36,36,36)"
            },
            "error_y": {
             "color": "rgb(36,36,36)"
            },
            "marker": {
             "line": {
              "color": "white",
              "width": 0.5
             }
            },
            "type": "bar"
           }
          ],
          "barpolar": [
           {
            "marker": {
             "line": {
              "color": "white",
              "width": 0.5
             }
            },
            "type": "barpolar"
           }
          ],
          "carpet": [
           {
            "aaxis": {
             "endlinecolor": "rgb(36,36,36)",
             "gridcolor": "white",
             "linecolor": "white",
             "minorgridcolor": "white",
             "startlinecolor": "rgb(36,36,36)"
            },
            "baxis": {
             "endlinecolor": "rgb(36,36,36)",
             "gridcolor": "white",
             "linecolor": "white",
             "minorgridcolor": "white",
             "startlinecolor": "rgb(36,36,36)"
            },
            "type": "carpet"
           }
          ],
          "choropleth": [
           {
            "colorbar": {
             "outlinewidth": 1,
             "tickcolor": "rgb(36,36,36)",
             "ticks": "outside"
            },
            "type": "choropleth"
           }
          ],
          "contour": [
           {
            "colorbar": {
             "outlinewidth": 1,
             "tickcolor": "rgb(36,36,36)",
             "ticks": "outside"
            },
            "colorscale": [
             [
              0,
              "#440154"
             ],
             [
              0.1111111111111111,
              "#482878"
             ],
             [
              0.2222222222222222,
              "#3e4989"
             ],
             [
              0.3333333333333333,
              "#31688e"
             ],
             [
              0.4444444444444444,
              "#26828e"
             ],
             [
              0.5555555555555556,
              "#1f9e89"
             ],
             [
              0.6666666666666666,
              "#35b779"
             ],
             [
              0.7777777777777778,
              "#6ece58"
             ],
             [
              0.8888888888888888,
              "#b5de2b"
             ],
             [
              1,
              "#fde725"
             ]
            ],
            "type": "contour"
           }
          ],
          "contourcarpet": [
           {
            "colorbar": {
             "outlinewidth": 1,
             "tickcolor": "rgb(36,36,36)",
             "ticks": "outside"
            },
            "type": "contourcarpet"
           }
          ],
          "heatmap": [
           {
            "colorbar": {
             "outlinewidth": 1,
             "tickcolor": "rgb(36,36,36)",
             "ticks": "outside"
            },
            "colorscale": [
             [
              0,
              "#440154"
             ],
             [
              0.1111111111111111,
              "#482878"
             ],
             [
              0.2222222222222222,
              "#3e4989"
             ],
             [
              0.3333333333333333,
              "#31688e"
             ],
             [
              0.4444444444444444,
              "#26828e"
             ],
             [
              0.5555555555555556,
              "#1f9e89"
             ],
             [
              0.6666666666666666,
              "#35b779"
             ],
             [
              0.7777777777777778,
              "#6ece58"
             ],
             [
              0.8888888888888888,
              "#b5de2b"
             ],
             [
              1,
              "#fde725"
             ]
            ],
            "type": "heatmap"
           }
          ],
          "heatmapgl": [
           {
            "colorbar": {
             "outlinewidth": 1,
             "tickcolor": "rgb(36,36,36)",
             "ticks": "outside"
            },
            "colorscale": [
             [
              0,
              "#440154"
             ],
             [
              0.1111111111111111,
              "#482878"
             ],
             [
              0.2222222222222222,
              "#3e4989"
             ],
             [
              0.3333333333333333,
              "#31688e"
             ],
             [
              0.4444444444444444,
              "#26828e"
             ],
             [
              0.5555555555555556,
              "#1f9e89"
             ],
             [
              0.6666666666666666,
              "#35b779"
             ],
             [
              0.7777777777777778,
              "#6ece58"
             ],
             [
              0.8888888888888888,
              "#b5de2b"
             ],
             [
              1,
              "#fde725"
             ]
            ],
            "type": "heatmapgl"
           }
          ],
          "histogram": [
           {
            "marker": {
             "line": {
              "color": "white",
              "width": 0.6
             }
            },
            "type": "histogram"
           }
          ],
          "histogram2d": [
           {
            "colorbar": {
             "outlinewidth": 1,
             "tickcolor": "rgb(36,36,36)",
             "ticks": "outside"
            },
            "colorscale": [
             [
              0,
              "#440154"
             ],
             [
              0.1111111111111111,
              "#482878"
             ],
             [
              0.2222222222222222,
              "#3e4989"
             ],
             [
              0.3333333333333333,
              "#31688e"
             ],
             [
              0.4444444444444444,
              "#26828e"
             ],
             [
              0.5555555555555556,
              "#1f9e89"
             ],
             [
              0.6666666666666666,
              "#35b779"
             ],
             [
              0.7777777777777778,
              "#6ece58"
             ],
             [
              0.8888888888888888,
              "#b5de2b"
             ],
             [
              1,
              "#fde725"
             ]
            ],
            "type": "histogram2d"
           }
          ],
          "histogram2dcontour": [
           {
            "colorbar": {
             "outlinewidth": 1,
             "tickcolor": "rgb(36,36,36)",
             "ticks": "outside"
            },
            "colorscale": [
             [
              0,
              "#440154"
             ],
             [
              0.1111111111111111,
              "#482878"
             ],
             [
              0.2222222222222222,
              "#3e4989"
             ],
             [
              0.3333333333333333,
              "#31688e"
             ],
             [
              0.4444444444444444,
              "#26828e"
             ],
             [
              0.5555555555555556,
              "#1f9e89"
             ],
             [
              0.6666666666666666,
              "#35b779"
             ],
             [
              0.7777777777777778,
              "#6ece58"
             ],
             [
              0.8888888888888888,
              "#b5de2b"
             ],
             [
              1,
              "#fde725"
             ]
            ],
            "type": "histogram2dcontour"
           }
          ],
          "mesh3d": [
           {
            "colorbar": {
             "outlinewidth": 1,
             "tickcolor": "rgb(36,36,36)",
             "ticks": "outside"
            },
            "type": "mesh3d"
           }
          ],
          "parcoords": [
           {
            "line": {
             "colorbar": {
              "outlinewidth": 1,
              "tickcolor": "rgb(36,36,36)",
              "ticks": "outside"
             }
            },
            "type": "parcoords"
           }
          ],
          "pie": [
           {
            "automargin": true,
            "type": "pie"
           }
          ],
          "scatter": [
           {
            "marker": {
             "colorbar": {
              "outlinewidth": 1,
              "tickcolor": "rgb(36,36,36)",
              "ticks": "outside"
             }
            },
            "type": "scatter"
           }
          ],
          "scatter3d": [
           {
            "line": {
             "colorbar": {
              "outlinewidth": 1,
              "tickcolor": "rgb(36,36,36)",
              "ticks": "outside"
             }
            },
            "marker": {
             "colorbar": {
              "outlinewidth": 1,
              "tickcolor": "rgb(36,36,36)",
              "ticks": "outside"
             }
            },
            "type": "scatter3d"
           }
          ],
          "scattercarpet": [
           {
            "marker": {
             "colorbar": {
              "outlinewidth": 1,
              "tickcolor": "rgb(36,36,36)",
              "ticks": "outside"
             }
            },
            "type": "scattercarpet"
           }
          ],
          "scattergeo": [
           {
            "marker": {
             "colorbar": {
              "outlinewidth": 1,
              "tickcolor": "rgb(36,36,36)",
              "ticks": "outside"
             }
            },
            "type": "scattergeo"
           }
          ],
          "scattergl": [
           {
            "marker": {
             "colorbar": {
              "outlinewidth": 1,
              "tickcolor": "rgb(36,36,36)",
              "ticks": "outside"
             }
            },
            "type": "scattergl"
           }
          ],
          "scattermapbox": [
           {
            "marker": {
             "colorbar": {
              "outlinewidth": 1,
              "tickcolor": "rgb(36,36,36)",
              "ticks": "outside"
             }
            },
            "type": "scattermapbox"
           }
          ],
          "scatterpolar": [
           {
            "marker": {
             "colorbar": {
              "outlinewidth": 1,
              "tickcolor": "rgb(36,36,36)",
              "ticks": "outside"
             }
            },
            "type": "scatterpolar"
           }
          ],
          "scatterpolargl": [
           {
            "marker": {
             "colorbar": {
              "outlinewidth": 1,
              "tickcolor": "rgb(36,36,36)",
              "ticks": "outside"
             }
            },
            "type": "scatterpolargl"
           }
          ],
          "scatterternary": [
           {
            "marker": {
             "colorbar": {
              "outlinewidth": 1,
              "tickcolor": "rgb(36,36,36)",
              "ticks": "outside"
             }
            },
            "type": "scatterternary"
           }
          ],
          "surface": [
           {
            "colorbar": {
             "outlinewidth": 1,
             "tickcolor": "rgb(36,36,36)",
             "ticks": "outside"
            },
            "colorscale": [
             [
              0,
              "#440154"
             ],
             [
              0.1111111111111111,
              "#482878"
             ],
             [
              0.2222222222222222,
              "#3e4989"
             ],
             [
              0.3333333333333333,
              "#31688e"
             ],
             [
              0.4444444444444444,
              "#26828e"
             ],
             [
              0.5555555555555556,
              "#1f9e89"
             ],
             [
              0.6666666666666666,
              "#35b779"
             ],
             [
              0.7777777777777778,
              "#6ece58"
             ],
             [
              0.8888888888888888,
              "#b5de2b"
             ],
             [
              1,
              "#fde725"
             ]
            ],
            "type": "surface"
           }
          ],
          "table": [
           {
            "cells": {
             "fill": {
              "color": "rgb(237,237,237)"
             },
             "line": {
              "color": "white"
             }
            },
            "header": {
             "fill": {
              "color": "rgb(217,217,217)"
             },
             "line": {
              "color": "white"
             }
            },
            "type": "table"
           }
          ]
         },
         "layout": {
          "annotationdefaults": {
           "arrowhead": 0,
           "arrowwidth": 1
          },
          "coloraxis": {
           "colorbar": {
            "outlinewidth": 1,
            "tickcolor": "rgb(36,36,36)",
            "ticks": "outside"
           }
          },
          "colorscale": {
           "diverging": [
            [
             0,
             "rgb(103,0,31)"
            ],
            [
             0.1,
             "rgb(178,24,43)"
            ],
            [
             0.2,
             "rgb(214,96,77)"
            ],
            [
             0.3,
             "rgb(244,165,130)"
            ],
            [
             0.4,
             "rgb(253,219,199)"
            ],
            [
             0.5,
             "rgb(247,247,247)"
            ],
            [
             0.6,
             "rgb(209,229,240)"
            ],
            [
             0.7,
             "rgb(146,197,222)"
            ],
            [
             0.8,
             "rgb(67,147,195)"
            ],
            [
             0.9,
             "rgb(33,102,172)"
            ],
            [
             1,
             "rgb(5,48,97)"
            ]
           ],
           "sequential": [
            [
             0,
             "#440154"
            ],
            [
             0.1111111111111111,
             "#482878"
            ],
            [
             0.2222222222222222,
             "#3e4989"
            ],
            [
             0.3333333333333333,
             "#31688e"
            ],
            [
             0.4444444444444444,
             "#26828e"
            ],
            [
             0.5555555555555556,
             "#1f9e89"
            ],
            [
             0.6666666666666666,
             "#35b779"
            ],
            [
             0.7777777777777778,
             "#6ece58"
            ],
            [
             0.8888888888888888,
             "#b5de2b"
            ],
            [
             1,
             "#fde725"
            ]
           ],
           "sequentialminus": [
            [
             0,
             "#440154"
            ],
            [
             0.1111111111111111,
             "#482878"
            ],
            [
             0.2222222222222222,
             "#3e4989"
            ],
            [
             0.3333333333333333,
             "#31688e"
            ],
            [
             0.4444444444444444,
             "#26828e"
            ],
            [
             0.5555555555555556,
             "#1f9e89"
            ],
            [
             0.6666666666666666,
             "#35b779"
            ],
            [
             0.7777777777777778,
             "#6ece58"
            ],
            [
             0.8888888888888888,
             "#b5de2b"
            ],
            [
             1,
             "#fde725"
            ]
           ]
          },
          "colorway": [
           "#1F77B4",
           "#FF7F0E",
           "#2CA02C",
           "#D62728",
           "#9467BD",
           "#8C564B",
           "#E377C2",
           "#7F7F7F",
           "#BCBD22",
           "#17BECF"
          ],
          "font": {
           "color": "rgb(36,36,36)"
          },
          "geo": {
           "bgcolor": "white",
           "lakecolor": "white",
           "landcolor": "white",
           "showlakes": true,
           "showland": true,
           "subunitcolor": "white"
          },
          "hoverlabel": {
           "align": "left"
          },
          "hovermode": "closest",
          "mapbox": {
           "style": "light"
          },
          "paper_bgcolor": "white",
          "plot_bgcolor": "white",
          "polar": {
           "angularaxis": {
            "gridcolor": "rgb(232,232,232)",
            "linecolor": "rgb(36,36,36)",
            "showgrid": false,
            "showline": true,
            "ticks": "outside"
           },
           "bgcolor": "white",
           "radialaxis": {
            "gridcolor": "rgb(232,232,232)",
            "linecolor": "rgb(36,36,36)",
            "showgrid": false,
            "showline": true,
            "ticks": "outside"
           }
          },
          "scene": {
           "xaxis": {
            "backgroundcolor": "white",
            "gridcolor": "rgb(232,232,232)",
            "gridwidth": 2,
            "linecolor": "rgb(36,36,36)",
            "showbackground": true,
            "showgrid": false,
            "showline": true,
            "ticks": "outside",
            "zeroline": false,
            "zerolinecolor": "rgb(36,36,36)"
           },
           "yaxis": {
            "backgroundcolor": "white",
            "gridcolor": "rgb(232,232,232)",
            "gridwidth": 2,
            "linecolor": "rgb(36,36,36)",
            "showbackground": true,
            "showgrid": false,
            "showline": true,
            "ticks": "outside",
            "zeroline": false,
            "zerolinecolor": "rgb(36,36,36)"
           },
           "zaxis": {
            "backgroundcolor": "white",
            "gridcolor": "rgb(232,232,232)",
            "gridwidth": 2,
            "linecolor": "rgb(36,36,36)",
            "showbackground": true,
            "showgrid": false,
            "showline": true,
            "ticks": "outside",
            "zeroline": false,
            "zerolinecolor": "rgb(36,36,36)"
           }
          },
          "shapedefaults": {
           "fillcolor": "black",
           "line": {
            "width": 0
           },
           "opacity": 0.3
          },
          "ternary": {
           "aaxis": {
            "gridcolor": "rgb(232,232,232)",
            "linecolor": "rgb(36,36,36)",
            "showgrid": false,
            "showline": true,
            "ticks": "outside"
           },
           "baxis": {
            "gridcolor": "rgb(232,232,232)",
            "linecolor": "rgb(36,36,36)",
            "showgrid": false,
            "showline": true,
            "ticks": "outside"
           },
           "bgcolor": "white",
           "caxis": {
            "gridcolor": "rgb(232,232,232)",
            "linecolor": "rgb(36,36,36)",
            "showgrid": false,
            "showline": true,
            "ticks": "outside"
           }
          },
          "title": {
           "x": 0.05
          },
          "xaxis": {
           "automargin": true,
           "gridcolor": "rgb(232,232,232)",
           "linecolor": "rgb(36,36,36)",
           "showgrid": false,
           "showline": true,
           "ticks": "outside",
           "title": {
            "standoff": 15
           },
           "zeroline": false,
           "zerolinecolor": "rgb(36,36,36)"
          },
          "yaxis": {
           "automargin": true,
           "gridcolor": "rgb(232,232,232)",
           "linecolor": "rgb(36,36,36)",
           "showgrid": false,
           "showline": true,
           "ticks": "outside",
           "title": {
            "standoff": 15
           },
           "zeroline": false,
           "zerolinecolor": "rgb(36,36,36)"
          }
         }
        },
        "title": {
         "text": "A1 Emissions for five key air pollutants in England, 1998 to 2018"
        },
        "xaxis": {
         "anchor": "y",
         "domain": [
          0,
          1
         ],
         "dtick": 2,
         "title": {
          "text": ""
         },
         "type": "linear"
        },
        "yaxis": {
         "anchor": "x",
         "domain": [
          0,
          1
         ],
         "dtick": 10,
         "title": {
          "text": "Index(1998 = 100)"
         },
         "type": "linear"
        }
       }
      }
     },
     "metadata": {}
    }
   ],
   "source": [
    "(px.line(\n",
    "    data_frame=df_processed_step,\n",
    "    x='Year',\n",
    "    y='Index',\n",
    "    color='ShortPollName',\n",
    "    color_discrete_map={\n",
    "        'NH3': '#00AF41',\n",
    "        'PM2.5': '#00AF41',\n",
    "        'NOx': 'Grey',\n",
    "        'NMVOC': '#007CBA',\n",
    "        'SO2': '#007CBA'\n",
    "    },\n",
    "    line_dash='ShortPollName',\n",
    "    line_dash_map={\n",
    "        'NH3': 'solid',\n",
    "        'PM2.5': 'dash',\n",
    "        'NOx': 'solid',\n",
    "        'NMVOC': 'solid',\n",
    "        'SO2': 'dash'\n",
    "    },\n",
    "    title=f'A1 Emissions for five key air pollutants in England, {df_processed_step.Year.min()} to {df_processed_step.Year.max()}',\n",
    "    labels={\n",
    "        'ShortPollName': 'Pollutant'\n",
    "        },\n",
    "    template='simple_white'\n",
    "        )\n",
    "    .update_xaxes(\n",
    "        title_text='',\n",
    "        type='linear',\n",
    "        dtick=2\n",
    "        )\n",
    "    .update_yaxes(\n",
    "        title_text=f'Index({df_processed_step.Year.min()} = 100)',\n",
    "        type='linear',\n",
    "        dtick=10\n",
    "        )\n",
    "    .update_layout(\n",
    "        hovermode='x unified',\n",
    "        legend={\n",
    "            'title': ''\n",
    "            }\n",
    "        )\n",
    "    .add_annotation(\n",
    "        showarrow=False,\n",
    "        text='<b>Source:</b> Ricardo Energy & Environment',\n",
    "        xref='paper',\n",
    "        xanchor='left',\n",
    "        x=-0.15,\n",
    "        yref='paper',\n",
    "        yanchor='top',\n",
    "        y=-0.15\n",
    "        )\n",
    "    .add_shape(\n",
    "        type='line',\n",
    "        xref='x',\n",
    "        x1=df_processed_step.Year.max(),\n",
    "        y1=df_processed_step.Index.max(),\n",
    "        yref='y',\n",
    "        x0=df_processed_step.Year.min(),\n",
    "        y0=df_processed_step.Index.max(),\n",
    "        line={\n",
    "            'color': 'Black',\n",
    "            'dash': 'dot',\n",
    "            'width': 1\n",
    "            } \n",
    "        ))"
   ]
  },
  {
   "source": [
    "# Iterations"
   ],
   "cell_type": "markdown",
   "metadata": {}
  },
  {
   "source": [
    "## Write a helper function to calculate the index column"
   ],
   "cell_type": "markdown",
   "metadata": {}
  },
  {
   "source": [
    "### Define index helper function\n",
    "\n",
    "`def function_name(param)` uses the [`def` keyword](https://docs.python.org/3/tutorial/controlflow.html#defining-functions) to define a function called `function_name` that takes parameter `param`.\n",
    "\n",
    "`\"\"\"Some text\"\"\" ` is a [doc-string](https://www.python.org/dev/peps/pep-0257/#id15), it should contian a consice and useful description of what the function does.\n"
   ],
   "cell_type": "markdown",
   "metadata": {}
  },
  {
   "cell_type": "code",
   "execution_count": 11,
   "metadata": {},
   "outputs": [],
   "source": [
    "def base_year_index(x):\n",
    "    \"\"\"Divide each value in a series by the first value, then multiply it by 100\"\"\"\n",
    "    return x.div(x.iloc[0]).mul(100)"
   ]
  },
  {
   "source": [
    "### Test index helper function\n",
    "\n",
    "Test that, given the series `2.0, 3.0, 4.0, 5.0, 6.0, 7.0, 8.0, 9.0, 10.0, 11.0` the funcion base_year_index returns the series `100.0, 150.0, 200.0, 250.0, 300.0, 350.0, 400.0, 450.0, 500.0, 550.0`.\n"
   ],
   "cell_type": "markdown",
   "metadata": {}
  },
  {
   "cell_type": "code",
   "execution_count": 12,
   "metadata": {},
   "outputs": [],
   "source": [
    "test_input = pd.Series([2.0, 3.0, 4.0, 5.0, 6.0, 7.0, 8.0, 9.0, 10.0, 11.0])\n",
    "\n",
    "test_expected =  pd.Series([100.0, 150.0, 200.0, 250.0, 300.0, 350.0, 400.0, 450.0, 500.0, 550.0])\n",
    "\n",
    "pd.testing.assert_series_equal(\n",
    "    left=base_year_index(test_input),\n",
    "    right=test_expected\n",
    ")"
   ]
  },
  {
   "source": [
    "## Chain the methods together\n",
    "\n",
    "Performing each transformation as a separate step makes the process very clear but it involves creating (and naming) a lot of intermediate variables, so I prefer to chain the methods calls together.\n",
    "\n",
    "See [Tom Augspurger. \"Modern Pandas (Part 2): Method Chaining.\" datasframe, https://tomaugspurger.github.io/method-chaining.html. 2020-11-26.](https://tomaugspurger.github.io/method-chaining.html)"
   ],
   "cell_type": "markdown",
   "metadata": {}
  },
  {
   "cell_type": "code",
   "execution_count": 13,
   "metadata": {},
   "outputs": [
    {
     "output_type": "execute_result",
     "data": {
      "text/plain": [
       "    ShortPollName  Year    Emissions       Index\n",
       "0             NOx  1998  1646.545024  100.000000\n",
       "1           PM2.5  1998   121.529144  100.000000\n",
       "2             SO2  1998  1396.569378  100.000000\n",
       "3           NMVOC  1998  1405.042632  100.000000\n",
       "4             NH3  1998   219.459243  100.000000\n",
       "..            ...   ...          ...         ...\n",
       "100           NOx  2018   604.799111   36.731404\n",
       "101         PM2.5  2018    83.142806   68.413883\n",
       "102           SO2  2018   118.684955    8.498321\n",
       "103         NMVOC  2018   526.173425   37.448929\n",
       "104           NH3  2018   189.813783   86.491588\n",
       "\n",
       "[105 rows x 4 columns]"
      ],
      "text/html": "<div>\n<style scoped>\n    .dataframe tbody tr th:only-of-type {\n        vertical-align: middle;\n    }\n\n    .dataframe tbody tr th {\n        vertical-align: top;\n    }\n\n    .dataframe thead th {\n        text-align: right;\n    }\n</style>\n<table border=\"1\" class=\"dataframe\">\n  <thead>\n    <tr style=\"text-align: right;\">\n      <th></th>\n      <th>ShortPollName</th>\n      <th>Year</th>\n      <th>Emissions</th>\n      <th>Index</th>\n    </tr>\n  </thead>\n  <tbody>\n    <tr>\n      <th>0</th>\n      <td>NOx</td>\n      <td>1998</td>\n      <td>1646.545024</td>\n      <td>100.000000</td>\n    </tr>\n    <tr>\n      <th>1</th>\n      <td>PM2.5</td>\n      <td>1998</td>\n      <td>121.529144</td>\n      <td>100.000000</td>\n    </tr>\n    <tr>\n      <th>2</th>\n      <td>SO2</td>\n      <td>1998</td>\n      <td>1396.569378</td>\n      <td>100.000000</td>\n    </tr>\n    <tr>\n      <th>3</th>\n      <td>NMVOC</td>\n      <td>1998</td>\n      <td>1405.042632</td>\n      <td>100.000000</td>\n    </tr>\n    <tr>\n      <th>4</th>\n      <td>NH3</td>\n      <td>1998</td>\n      <td>219.459243</td>\n      <td>100.000000</td>\n    </tr>\n    <tr>\n      <th>...</th>\n      <td>...</td>\n      <td>...</td>\n      <td>...</td>\n      <td>...</td>\n    </tr>\n    <tr>\n      <th>100</th>\n      <td>NOx</td>\n      <td>2018</td>\n      <td>604.799111</td>\n      <td>36.731404</td>\n    </tr>\n    <tr>\n      <th>101</th>\n      <td>PM2.5</td>\n      <td>2018</td>\n      <td>83.142806</td>\n      <td>68.413883</td>\n    </tr>\n    <tr>\n      <th>102</th>\n      <td>SO2</td>\n      <td>2018</td>\n      <td>118.684955</td>\n      <td>8.498321</td>\n    </tr>\n    <tr>\n      <th>103</th>\n      <td>NMVOC</td>\n      <td>2018</td>\n      <td>526.173425</td>\n      <td>37.448929</td>\n    </tr>\n    <tr>\n      <th>104</th>\n      <td>NH3</td>\n      <td>2018</td>\n      <td>189.813783</td>\n      <td>86.491588</td>\n    </tr>\n  </tbody>\n</table>\n<p>105 rows × 4 columns</p>\n</div>"
     },
     "metadata": {},
     "execution_count": 13
    }
   ],
   "source": [
    "df_processed_chain = (df_raw\n",
    "    .query(\n",
    "        'ShortPollName == [\"NH3 Total\", \"NOx Total\", \"SO2 Total\", \"VOC Total\", \"PM2.5 Total\"]'\n",
    "        )\n",
    "    .assign(\n",
    "        ShortPollName=(df_filtered_cols\n",
    "        .ShortPollName\n",
    "        .str.replace(\n",
    "            pat=' Total',\n",
    "            repl=''\n",
    "            )\n",
    "        .str.replace(\n",
    "            pat='VOC',\n",
    "            repl='NMVOC'\n",
    "            ))\n",
    "        )\n",
    "    .drop(\n",
    "        columns=['NFRCode', 'SourceName']\n",
    "        )\n",
    "    .melt(\n",
    "        id_vars='ShortPollName', \n",
    "        var_name='Year', \n",
    "        value_name='Emissions'\n",
    "        )\n",
    "    .query(\n",
    "        'Year >= 1998'\n",
    "        )\n",
    "    .assign(\n",
    "        Index=lambda x: (x\n",
    "            .groupby('ShortPollName')\n",
    "            .Emissions\n",
    "            .apply(base_year_index))\n",
    "        )\n",
    "    .reset_index(\n",
    "        drop=True\n",
    "        ))\n",
    "\n",
    "df_processed_chain"
   ]
  },
  {
   "source": [
    "### Check that the step by step and chained process produce the same results"
   ],
   "cell_type": "markdown",
   "metadata": {}
  },
  {
   "cell_type": "code",
   "execution_count": 14,
   "metadata": {},
   "outputs": [],
   "source": [
    "pd.testing.assert_frame_equal(\n",
    "    left=df_processed_step,\n",
    "    right=df_processed_chain\n",
    ")"
   ]
  },
  {
   "source": [
    "## Turn the chain into a function"
   ],
   "cell_type": "markdown",
   "metadata": {}
  },
  {
   "source": [
    "### Define the function"
   ],
   "cell_type": "markdown",
   "metadata": {}
  },
  {
   "cell_type": "code",
   "execution_count": 15,
   "metadata": {},
   "outputs": [],
   "source": [
    "def process_A1(df):\n",
    "    \"\"\"Transform A1 raw input data for ploting\"\"\"\n",
    "    return (df\n",
    "    .query(\n",
    "        'ShortPollName == [\"NH3 Total\", \"NOx Total\", \"SO2 Total\", \"VOC Total\", \"PM2.5 Total\"]'\n",
    "        )\n",
    "    .assign(\n",
    "        ShortPollName=(df_filtered_cols\n",
    "        .ShortPollName\n",
    "        .str.replace(\n",
    "            pat=' Total',\n",
    "            repl=''\n",
    "            )\n",
    "        .str.replace(\n",
    "            pat='VOC',\n",
    "            repl='NMVOC'\n",
    "            ))\n",
    "        )\n",
    "    .drop(\n",
    "        columns=['NFRCode', 'SourceName']\n",
    "        )\n",
    "    .melt(\n",
    "        id_vars='ShortPollName', \n",
    "        var_name='Year', \n",
    "        value_name='Emissions'\n",
    "        )\n",
    "    .query(\n",
    "        'Year >= 1998'\n",
    "        )\n",
    "    .assign(\n",
    "        Index=lambda x: (x\n",
    "            .groupby('ShortPollName')\n",
    "            .Emissions\n",
    "            .apply(base_year_index))\n",
    "        )\n",
    "    .reset_index(\n",
    "        drop=True\n",
    "        ))"
   ]
  },
  {
   "source": [
    "### Test the function"
   ],
   "cell_type": "markdown",
   "metadata": {}
  },
  {
   "cell_type": "code",
   "execution_count": 16,
   "metadata": {},
   "outputs": [],
   "source": [
    "pd.testing.assert_frame_equal(\n",
    "    left=df_processed_step,\n",
    "    right=process_A1(df_raw)\n",
    ")"
   ]
  },
  {
   "source": [
    "### Use the function"
   ],
   "cell_type": "markdown",
   "metadata": {}
  },
  {
   "cell_type": "code",
   "execution_count": 17,
   "metadata": {},
   "outputs": [
    {
     "output_type": "execute_result",
     "data": {
      "text/plain": [
       "    ShortPollName  Year    Emissions       Index\n",
       "0             NOx  1998  1646.545024  100.000000\n",
       "1           PM2.5  1998   121.529144  100.000000\n",
       "2             SO2  1998  1396.569378  100.000000\n",
       "3           NMVOC  1998  1405.042632  100.000000\n",
       "4             NH3  1998   219.459243  100.000000\n",
       "..            ...   ...          ...         ...\n",
       "100           NOx  2018   604.799111   36.731404\n",
       "101         PM2.5  2018    83.142806   68.413883\n",
       "102           SO2  2018   118.684955    8.498321\n",
       "103         NMVOC  2018   526.173425   37.448929\n",
       "104           NH3  2018   189.813783   86.491588\n",
       "\n",
       "[105 rows x 4 columns]"
      ],
      "text/html": "<div>\n<style scoped>\n    .dataframe tbody tr th:only-of-type {\n        vertical-align: middle;\n    }\n\n    .dataframe tbody tr th {\n        vertical-align: top;\n    }\n\n    .dataframe thead th {\n        text-align: right;\n    }\n</style>\n<table border=\"1\" class=\"dataframe\">\n  <thead>\n    <tr style=\"text-align: right;\">\n      <th></th>\n      <th>ShortPollName</th>\n      <th>Year</th>\n      <th>Emissions</th>\n      <th>Index</th>\n    </tr>\n  </thead>\n  <tbody>\n    <tr>\n      <th>0</th>\n      <td>NOx</td>\n      <td>1998</td>\n      <td>1646.545024</td>\n      <td>100.000000</td>\n    </tr>\n    <tr>\n      <th>1</th>\n      <td>PM2.5</td>\n      <td>1998</td>\n      <td>121.529144</td>\n      <td>100.000000</td>\n    </tr>\n    <tr>\n      <th>2</th>\n      <td>SO2</td>\n      <td>1998</td>\n      <td>1396.569378</td>\n      <td>100.000000</td>\n    </tr>\n    <tr>\n      <th>3</th>\n      <td>NMVOC</td>\n      <td>1998</td>\n      <td>1405.042632</td>\n      <td>100.000000</td>\n    </tr>\n    <tr>\n      <th>4</th>\n      <td>NH3</td>\n      <td>1998</td>\n      <td>219.459243</td>\n      <td>100.000000</td>\n    </tr>\n    <tr>\n      <th>...</th>\n      <td>...</td>\n      <td>...</td>\n      <td>...</td>\n      <td>...</td>\n    </tr>\n    <tr>\n      <th>100</th>\n      <td>NOx</td>\n      <td>2018</td>\n      <td>604.799111</td>\n      <td>36.731404</td>\n    </tr>\n    <tr>\n      <th>101</th>\n      <td>PM2.5</td>\n      <td>2018</td>\n      <td>83.142806</td>\n      <td>68.413883</td>\n    </tr>\n    <tr>\n      <th>102</th>\n      <td>SO2</td>\n      <td>2018</td>\n      <td>118.684955</td>\n      <td>8.498321</td>\n    </tr>\n    <tr>\n      <th>103</th>\n      <td>NMVOC</td>\n      <td>2018</td>\n      <td>526.173425</td>\n      <td>37.448929</td>\n    </tr>\n    <tr>\n      <th>104</th>\n      <td>NH3</td>\n      <td>2018</td>\n      <td>189.813783</td>\n      <td>86.491588</td>\n    </tr>\n  </tbody>\n</table>\n<p>105 rows × 4 columns</p>\n</div>"
     },
     "metadata": {},
     "execution_count": 17
    }
   ],
   "source": [
    "df_processed_function = process_A1(df_raw)\n",
    "\n",
    "df_processed_function"
   ]
  },
  {
   "source": [
    "## Write a plot creation function"
   ],
   "cell_type": "markdown",
   "metadata": {}
  },
  {
   "source": [
    "### Define a plot creation function"
   ],
   "cell_type": "markdown",
   "metadata": {}
  },
  {
   "cell_type": "code",
   "execution_count": 18,
   "metadata": {},
   "outputs": [],
   "source": [
    "def plot_A1(df, x, y, var, var_colours, var_line_style, title, labels, title_x, title_y, title_legend, source):\n",
    "    \"\"\"doc string\"\"\"\n",
    "    return (px.line(\n",
    "        df,\n",
    "        x=x,\n",
    "        y=y,\n",
    "        color=var,\n",
    "        color_discrete_map=var_colours,\n",
    "        line_dash=var,\n",
    "        line_dash_map=var_line_style,\n",
    "        title=title,\n",
    "        labels=labels,\n",
    "        template='simple_white'\n",
    "            )\n",
    "        .update_xaxes(\n",
    "            title_text=title_x,\n",
    "            type='linear',\n",
    "            dtick=2\n",
    "            )\n",
    "        .update_yaxes(\n",
    "            title_text=title_y,\n",
    "            type='linear',\n",
    "            dtick=10\n",
    "            )\n",
    "        .update_layout(\n",
    "            hovermode='x unified',\n",
    "            legend={\n",
    "                'title': title_legend\n",
    "                }\n",
    "            )\n",
    "        .add_annotation(\n",
    "            showarrow=False,\n",
    "            text=f'<b>Source:</b> {source}',\n",
    "            xref='paper',\n",
    "            xanchor='left',\n",
    "            x=-0.15,\n",
    "            yref='paper',\n",
    "            yanchor='top',\n",
    "            y=-0.15\n",
    "            )\n",
    "        .add_shape(\n",
    "            type='line',\n",
    "            xref='x',\n",
    "            x1=df_processed_chain.Year.max(),\n",
    "            y1=df_processed_chain.Index.max(),\n",
    "            yref='y',\n",
    "            x0=df_processed_chain.Year.min(),\n",
    "            y0=df_processed_chain.Index.max(),\n",
    "            line={\n",
    "                'color': 'Black',\n",
    "                'dash': 'dot',\n",
    "                'width': 1\n",
    "                } \n",
    "            ))\n"
   ]
  },
  {
   "source": [
    "### Use plot creation function"
   ],
   "cell_type": "markdown",
   "metadata": {}
  },
  {
   "cell_type": "code",
   "execution_count": 32,
   "metadata": {},
   "outputs": [
    {
     "output_type": "display_data",
     "data": {
      "application/vnd.plotly.v1+json": {
       "config": {
        "plotlyServerURL": "https://plot.ly"
       },
       "data": [
        {
         "hovertemplate": "Pollutant=NOx<br>Year=%{x}<br>Index=%{y}<extra></extra>",
         "legendgroup": "NOx",
         "line": {
          "color": "Grey",
          "dash": "solid"
         },
         "mode": "lines",
         "name": "NOx",
         "orientation": "v",
         "showlegend": true,
         "type": "scatter",
         "x": [
          1998,
          1999,
          2000,
          2001,
          2002,
          2003,
          2004,
          2005,
          2006,
          2007,
          2008,
          2009,
          2010,
          2011,
          2012,
          2013,
          2014,
          2015,
          2016,
          2017,
          2018
         ],
         "xaxis": "x",
         "y": [
          100,
          94.11532751390368,
          89.9073042964407,
          88.3441888260992,
          83.51875213349167,
          82.84705481816793,
          80.2089126452926,
          79.77478445346688,
          76.29877135695723,
          74.06555484719824,
          65.11667041450127,
          56.35574539975276,
          54.84433425595686,
          51.147775565904716,
          52.21492731707019,
          49.29641174052905,
          45.986998936726565,
          43.6293503663838,
          38.935070687401016,
          38.01850332932381,
          36.731404361873366
         ],
         "yaxis": "y"
        },
        {
         "hovertemplate": "Pollutant=PM2.5<br>Year=%{x}<br>Index=%{y}<extra></extra>",
         "legendgroup": "PM2.5",
         "line": {
          "color": "#00AF41",
          "dash": "dash"
         },
         "mode": "lines",
         "name": "PM2.5",
         "orientation": "v",
         "showlegend": true,
         "type": "scatter",
         "x": [
          1998,
          1999,
          2000,
          2001,
          2002,
          2003,
          2004,
          2005,
          2006,
          2007,
          2008,
          2009,
          2010,
          2011,
          2012,
          2013,
          2014,
          2015,
          2016,
          2017,
          2018
         ],
         "xaxis": "x",
         "y": [
          100,
          99.10527200692871,
          90.36510476885418,
          90.23403460504474,
          80.91465558386707,
          82.18605340527816,
          79.90645894333663,
          78.53343405009355,
          76.72253495654856,
          72.81450071820292,
          73.14282106510852,
          69.65454205329361,
          74.67473670418096,
          67.18176796800769,
          71.20219802489613,
          72.22018218416709,
          68.17302694310469,
          68.3680661379518,
          67.27086233518706,
          67.0769404739628,
          68.41388262565621
         ],
         "yaxis": "y"
        },
        {
         "hovertemplate": "Pollutant=SO2<br>Year=%{x}<br>Index=%{y}<extra></extra>",
         "legendgroup": "SO2",
         "line": {
          "color": "#007CBA",
          "dash": "dash"
         },
         "mode": "lines",
         "name": "SO2",
         "orientation": "v",
         "showlegend": true,
         "type": "scatter",
         "x": [
          1998,
          1999,
          2000,
          2001,
          2002,
          2003,
          2004,
          2005,
          2006,
          2007,
          2008,
          2009,
          2010,
          2011,
          2012,
          2013,
          2014,
          2015,
          2016,
          2017,
          2018
         ],
         "xaxis": "x",
         "y": [
          100,
          75.38672375866646,
          71.13317499439178,
          65.82975652042882,
          60.051708701974114,
          59.336164438540294,
          49.45688526383538,
          42.14641235793839,
          38.209535856212376,
          33.76574671468485,
          27.846242321784604,
          22.308725895179396,
          22.35048287503876,
          21.73263715123839,
          25.260157039866414,
          21.520136504777366,
          17.586382793978185,
          13.152046455469913,
          9.221890710939238,
          9.384842201202845,
          8.498321417399401
         ],
         "yaxis": "y"
        },
        {
         "hovertemplate": "Pollutant=NMVOC<br>Year=%{x}<br>Index=%{y}<extra></extra>",
         "legendgroup": "NMVOC",
         "line": {
          "color": "#007CBA",
          "dash": "solid"
         },
         "mode": "lines",
         "name": "NMVOC",
         "orientation": "v",
         "showlegend": true,
         "type": "scatter",
         "x": [
          1998,
          1999,
          2000,
          2001,
          2002,
          2003,
          2004,
          2005,
          2006,
          2007,
          2008,
          2009,
          2010,
          2011,
          2012,
          2013,
          2014,
          2015,
          2016,
          2017,
          2018
         ],
         "xaxis": "x",
         "y": [
          100,
          90.01151370663001,
          81.66247514274093,
          77.8597346336801,
          72.14202735476405,
          67.74604099325104,
          63.66960405243065,
          59.721995658046545,
          56.84246279568964,
          53.87315717251816,
          49.98106494186476,
          44.55344130652961,
          43.07668842283439,
          41.83369057376271,
          40.557380882686886,
          38.87350650342694,
          38.63083066616261,
          38.37687212201866,
          37.51082868905852,
          37.52125057346472,
          37.44892949573585
         ],
         "yaxis": "y"
        },
        {
         "hovertemplate": "Pollutant=NH3<br>Year=%{x}<br>Index=%{y}<extra></extra>",
         "legendgroup": "NH3",
         "line": {
          "color": "#00AF41",
          "dash": "solid"
         },
         "mode": "lines",
         "name": "NH3",
         "orientation": "v",
         "showlegend": true,
         "type": "scatter",
         "x": [
          1998,
          1999,
          2000,
          2001,
          2002,
          2003,
          2004,
          2005,
          2006,
          2007,
          2008,
          2009,
          2010,
          2011,
          2012,
          2013,
          2014,
          2015,
          2016,
          2017,
          2018
         ],
         "xaxis": "x",
         "y": [
          100,
          97.97645693270759,
          95.66594445041883,
          92.12316688160878,
          91.60824862646481,
          88.50258678160543,
          90.38014116642806,
          87.67892921809657,
          86.33386689693937,
          84.70841149343602,
          79.9477989906992,
          80.90544425801679,
          80.86702441760629,
          82.73458066441135,
          81.20546806800928,
          79.4694199269742,
          84.05797787382508,
          85.40198440299683,
          86.0463994090019,
          86.57469493221292,
          86.4915877616286
         ],
         "yaxis": "y"
        }
       ],
       "layout": {
        "annotations": [
         {
          "showarrow": false,
          "text": "<b>Source:</b> Ricardo Energy & Environment",
          "x": -0.15,
          "xanchor": "left",
          "xref": "paper",
          "y": -0.15,
          "yanchor": "top",
          "yref": "paper"
         }
        ],
        "hovermode": "x unified",
        "legend": {
         "title": {
          "text": ""
         },
         "tracegroupgap": 0
        },
        "shapes": [
         {
          "line": {
           "color": "Black",
           "dash": "dot",
           "width": 1
          },
          "type": "line",
          "x0": 1998,
          "x1": 2018,
          "xref": "x",
          "y0": 100,
          "y1": 100,
          "yref": "y"
         }
        ],
        "template": {
         "data": {
          "bar": [
           {
            "error_x": {
             "color": "rgb(36,36,36)"
            },
            "error_y": {
             "color": "rgb(36,36,36)"
            },
            "marker": {
             "line": {
              "color": "white",
              "width": 0.5
             }
            },
            "type": "bar"
           }
          ],
          "barpolar": [
           {
            "marker": {
             "line": {
              "color": "white",
              "width": 0.5
             }
            },
            "type": "barpolar"
           }
          ],
          "carpet": [
           {
            "aaxis": {
             "endlinecolor": "rgb(36,36,36)",
             "gridcolor": "white",
             "linecolor": "white",
             "minorgridcolor": "white",
             "startlinecolor": "rgb(36,36,36)"
            },
            "baxis": {
             "endlinecolor": "rgb(36,36,36)",
             "gridcolor": "white",
             "linecolor": "white",
             "minorgridcolor": "white",
             "startlinecolor": "rgb(36,36,36)"
            },
            "type": "carpet"
           }
          ],
          "choropleth": [
           {
            "colorbar": {
             "outlinewidth": 1,
             "tickcolor": "rgb(36,36,36)",
             "ticks": "outside"
            },
            "type": "choropleth"
           }
          ],
          "contour": [
           {
            "colorbar": {
             "outlinewidth": 1,
             "tickcolor": "rgb(36,36,36)",
             "ticks": "outside"
            },
            "colorscale": [
             [
              0,
              "#440154"
             ],
             [
              0.1111111111111111,
              "#482878"
             ],
             [
              0.2222222222222222,
              "#3e4989"
             ],
             [
              0.3333333333333333,
              "#31688e"
             ],
             [
              0.4444444444444444,
              "#26828e"
             ],
             [
              0.5555555555555556,
              "#1f9e89"
             ],
             [
              0.6666666666666666,
              "#35b779"
             ],
             [
              0.7777777777777778,
              "#6ece58"
             ],
             [
              0.8888888888888888,
              "#b5de2b"
             ],
             [
              1,
              "#fde725"
             ]
            ],
            "type": "contour"
           }
          ],
          "contourcarpet": [
           {
            "colorbar": {
             "outlinewidth": 1,
             "tickcolor": "rgb(36,36,36)",
             "ticks": "outside"
            },
            "type": "contourcarpet"
           }
          ],
          "heatmap": [
           {
            "colorbar": {
             "outlinewidth": 1,
             "tickcolor": "rgb(36,36,36)",
             "ticks": "outside"
            },
            "colorscale": [
             [
              0,
              "#440154"
             ],
             [
              0.1111111111111111,
              "#482878"
             ],
             [
              0.2222222222222222,
              "#3e4989"
             ],
             [
              0.3333333333333333,
              "#31688e"
             ],
             [
              0.4444444444444444,
              "#26828e"
             ],
             [
              0.5555555555555556,
              "#1f9e89"
             ],
             [
              0.6666666666666666,
              "#35b779"
             ],
             [
              0.7777777777777778,
              "#6ece58"
             ],
             [
              0.8888888888888888,
              "#b5de2b"
             ],
             [
              1,
              "#fde725"
             ]
            ],
            "type": "heatmap"
           }
          ],
          "heatmapgl": [
           {
            "colorbar": {
             "outlinewidth": 1,
             "tickcolor": "rgb(36,36,36)",
             "ticks": "outside"
            },
            "colorscale": [
             [
              0,
              "#440154"
             ],
             [
              0.1111111111111111,
              "#482878"
             ],
             [
              0.2222222222222222,
              "#3e4989"
             ],
             [
              0.3333333333333333,
              "#31688e"
             ],
             [
              0.4444444444444444,
              "#26828e"
             ],
             [
              0.5555555555555556,
              "#1f9e89"
             ],
             [
              0.6666666666666666,
              "#35b779"
             ],
             [
              0.7777777777777778,
              "#6ece58"
             ],
             [
              0.8888888888888888,
              "#b5de2b"
             ],
             [
              1,
              "#fde725"
             ]
            ],
            "type": "heatmapgl"
           }
          ],
          "histogram": [
           {
            "marker": {
             "line": {
              "color": "white",
              "width": 0.6
             }
            },
            "type": "histogram"
           }
          ],
          "histogram2d": [
           {
            "colorbar": {
             "outlinewidth": 1,
             "tickcolor": "rgb(36,36,36)",
             "ticks": "outside"
            },
            "colorscale": [
             [
              0,
              "#440154"
             ],
             [
              0.1111111111111111,
              "#482878"
             ],
             [
              0.2222222222222222,
              "#3e4989"
             ],
             [
              0.3333333333333333,
              "#31688e"
             ],
             [
              0.4444444444444444,
              "#26828e"
             ],
             [
              0.5555555555555556,
              "#1f9e89"
             ],
             [
              0.6666666666666666,
              "#35b779"
             ],
             [
              0.7777777777777778,
              "#6ece58"
             ],
             [
              0.8888888888888888,
              "#b5de2b"
             ],
             [
              1,
              "#fde725"
             ]
            ],
            "type": "histogram2d"
           }
          ],
          "histogram2dcontour": [
           {
            "colorbar": {
             "outlinewidth": 1,
             "tickcolor": "rgb(36,36,36)",
             "ticks": "outside"
            },
            "colorscale": [
             [
              0,
              "#440154"
             ],
             [
              0.1111111111111111,
              "#482878"
             ],
             [
              0.2222222222222222,
              "#3e4989"
             ],
             [
              0.3333333333333333,
              "#31688e"
             ],
             [
              0.4444444444444444,
              "#26828e"
             ],
             [
              0.5555555555555556,
              "#1f9e89"
             ],
             [
              0.6666666666666666,
              "#35b779"
             ],
             [
              0.7777777777777778,
              "#6ece58"
             ],
             [
              0.8888888888888888,
              "#b5de2b"
             ],
             [
              1,
              "#fde725"
             ]
            ],
            "type": "histogram2dcontour"
           }
          ],
          "mesh3d": [
           {
            "colorbar": {
             "outlinewidth": 1,
             "tickcolor": "rgb(36,36,36)",
             "ticks": "outside"
            },
            "type": "mesh3d"
           }
          ],
          "parcoords": [
           {
            "line": {
             "colorbar": {
              "outlinewidth": 1,
              "tickcolor": "rgb(36,36,36)",
              "ticks": "outside"
             }
            },
            "type": "parcoords"
           }
          ],
          "pie": [
           {
            "automargin": true,
            "type": "pie"
           }
          ],
          "scatter": [
           {
            "marker": {
             "colorbar": {
              "outlinewidth": 1,
              "tickcolor": "rgb(36,36,36)",
              "ticks": "outside"
             }
            },
            "type": "scatter"
           }
          ],
          "scatter3d": [
           {
            "line": {
             "colorbar": {
              "outlinewidth": 1,
              "tickcolor": "rgb(36,36,36)",
              "ticks": "outside"
             }
            },
            "marker": {
             "colorbar": {
              "outlinewidth": 1,
              "tickcolor": "rgb(36,36,36)",
              "ticks": "outside"
             }
            },
            "type": "scatter3d"
           }
          ],
          "scattercarpet": [
           {
            "marker": {
             "colorbar": {
              "outlinewidth": 1,
              "tickcolor": "rgb(36,36,36)",
              "ticks": "outside"
             }
            },
            "type": "scattercarpet"
           }
          ],
          "scattergeo": [
           {
            "marker": {
             "colorbar": {
              "outlinewidth": 1,
              "tickcolor": "rgb(36,36,36)",
              "ticks": "outside"
             }
            },
            "type": "scattergeo"
           }
          ],
          "scattergl": [
           {
            "marker": {
             "colorbar": {
              "outlinewidth": 1,
              "tickcolor": "rgb(36,36,36)",
              "ticks": "outside"
             }
            },
            "type": "scattergl"
           }
          ],
          "scattermapbox": [
           {
            "marker": {
             "colorbar": {
              "outlinewidth": 1,
              "tickcolor": "rgb(36,36,36)",
              "ticks": "outside"
             }
            },
            "type": "scattermapbox"
           }
          ],
          "scatterpolar": [
           {
            "marker": {
             "colorbar": {
              "outlinewidth": 1,
              "tickcolor": "rgb(36,36,36)",
              "ticks": "outside"
             }
            },
            "type": "scatterpolar"
           }
          ],
          "scatterpolargl": [
           {
            "marker": {
             "colorbar": {
              "outlinewidth": 1,
              "tickcolor": "rgb(36,36,36)",
              "ticks": "outside"
             }
            },
            "type": "scatterpolargl"
           }
          ],
          "scatterternary": [
           {
            "marker": {
             "colorbar": {
              "outlinewidth": 1,
              "tickcolor": "rgb(36,36,36)",
              "ticks": "outside"
             }
            },
            "type": "scatterternary"
           }
          ],
          "surface": [
           {
            "colorbar": {
             "outlinewidth": 1,
             "tickcolor": "rgb(36,36,36)",
             "ticks": "outside"
            },
            "colorscale": [
             [
              0,
              "#440154"
             ],
             [
              0.1111111111111111,
              "#482878"
             ],
             [
              0.2222222222222222,
              "#3e4989"
             ],
             [
              0.3333333333333333,
              "#31688e"
             ],
             [
              0.4444444444444444,
              "#26828e"
             ],
             [
              0.5555555555555556,
              "#1f9e89"
             ],
             [
              0.6666666666666666,
              "#35b779"
             ],
             [
              0.7777777777777778,
              "#6ece58"
             ],
             [
              0.8888888888888888,
              "#b5de2b"
             ],
             [
              1,
              "#fde725"
             ]
            ],
            "type": "surface"
           }
          ],
          "table": [
           {
            "cells": {
             "fill": {
              "color": "rgb(237,237,237)"
             },
             "line": {
              "color": "white"
             }
            },
            "header": {
             "fill": {
              "color": "rgb(217,217,217)"
             },
             "line": {
              "color": "white"
             }
            },
            "type": "table"
           }
          ]
         },
         "layout": {
          "annotationdefaults": {
           "arrowhead": 0,
           "arrowwidth": 1
          },
          "coloraxis": {
           "colorbar": {
            "outlinewidth": 1,
            "tickcolor": "rgb(36,36,36)",
            "ticks": "outside"
           }
          },
          "colorscale": {
           "diverging": [
            [
             0,
             "rgb(103,0,31)"
            ],
            [
             0.1,
             "rgb(178,24,43)"
            ],
            [
             0.2,
             "rgb(214,96,77)"
            ],
            [
             0.3,
             "rgb(244,165,130)"
            ],
            [
             0.4,
             "rgb(253,219,199)"
            ],
            [
             0.5,
             "rgb(247,247,247)"
            ],
            [
             0.6,
             "rgb(209,229,240)"
            ],
            [
             0.7,
             "rgb(146,197,222)"
            ],
            [
             0.8,
             "rgb(67,147,195)"
            ],
            [
             0.9,
             "rgb(33,102,172)"
            ],
            [
             1,
             "rgb(5,48,97)"
            ]
           ],
           "sequential": [
            [
             0,
             "#440154"
            ],
            [
             0.1111111111111111,
             "#482878"
            ],
            [
             0.2222222222222222,
             "#3e4989"
            ],
            [
             0.3333333333333333,
             "#31688e"
            ],
            [
             0.4444444444444444,
             "#26828e"
            ],
            [
             0.5555555555555556,
             "#1f9e89"
            ],
            [
             0.6666666666666666,
             "#35b779"
            ],
            [
             0.7777777777777778,
             "#6ece58"
            ],
            [
             0.8888888888888888,
             "#b5de2b"
            ],
            [
             1,
             "#fde725"
            ]
           ],
           "sequentialminus": [
            [
             0,
             "#440154"
            ],
            [
             0.1111111111111111,
             "#482878"
            ],
            [
             0.2222222222222222,
             "#3e4989"
            ],
            [
             0.3333333333333333,
             "#31688e"
            ],
            [
             0.4444444444444444,
             "#26828e"
            ],
            [
             0.5555555555555556,
             "#1f9e89"
            ],
            [
             0.6666666666666666,
             "#35b779"
            ],
            [
             0.7777777777777778,
             "#6ece58"
            ],
            [
             0.8888888888888888,
             "#b5de2b"
            ],
            [
             1,
             "#fde725"
            ]
           ]
          },
          "colorway": [
           "#1F77B4",
           "#FF7F0E",
           "#2CA02C",
           "#D62728",
           "#9467BD",
           "#8C564B",
           "#E377C2",
           "#7F7F7F",
           "#BCBD22",
           "#17BECF"
          ],
          "font": {
           "color": "rgb(36,36,36)"
          },
          "geo": {
           "bgcolor": "white",
           "lakecolor": "white",
           "landcolor": "white",
           "showlakes": true,
           "showland": true,
           "subunitcolor": "white"
          },
          "hoverlabel": {
           "align": "left"
          },
          "hovermode": "closest",
          "mapbox": {
           "style": "light"
          },
          "paper_bgcolor": "white",
          "plot_bgcolor": "white",
          "polar": {
           "angularaxis": {
            "gridcolor": "rgb(232,232,232)",
            "linecolor": "rgb(36,36,36)",
            "showgrid": false,
            "showline": true,
            "ticks": "outside"
           },
           "bgcolor": "white",
           "radialaxis": {
            "gridcolor": "rgb(232,232,232)",
            "linecolor": "rgb(36,36,36)",
            "showgrid": false,
            "showline": true,
            "ticks": "outside"
           }
          },
          "scene": {
           "xaxis": {
            "backgroundcolor": "white",
            "gridcolor": "rgb(232,232,232)",
            "gridwidth": 2,
            "linecolor": "rgb(36,36,36)",
            "showbackground": true,
            "showgrid": false,
            "showline": true,
            "ticks": "outside",
            "zeroline": false,
            "zerolinecolor": "rgb(36,36,36)"
           },
           "yaxis": {
            "backgroundcolor": "white",
            "gridcolor": "rgb(232,232,232)",
            "gridwidth": 2,
            "linecolor": "rgb(36,36,36)",
            "showbackground": true,
            "showgrid": false,
            "showline": true,
            "ticks": "outside",
            "zeroline": false,
            "zerolinecolor": "rgb(36,36,36)"
           },
           "zaxis": {
            "backgroundcolor": "white",
            "gridcolor": "rgb(232,232,232)",
            "gridwidth": 2,
            "linecolor": "rgb(36,36,36)",
            "showbackground": true,
            "showgrid": false,
            "showline": true,
            "ticks": "outside",
            "zeroline": false,
            "zerolinecolor": "rgb(36,36,36)"
           }
          },
          "shapedefaults": {
           "fillcolor": "black",
           "line": {
            "width": 0
           },
           "opacity": 0.3
          },
          "ternary": {
           "aaxis": {
            "gridcolor": "rgb(232,232,232)",
            "linecolor": "rgb(36,36,36)",
            "showgrid": false,
            "showline": true,
            "ticks": "outside"
           },
           "baxis": {
            "gridcolor": "rgb(232,232,232)",
            "linecolor": "rgb(36,36,36)",
            "showgrid": false,
            "showline": true,
            "ticks": "outside"
           },
           "bgcolor": "white",
           "caxis": {
            "gridcolor": "rgb(232,232,232)",
            "linecolor": "rgb(36,36,36)",
            "showgrid": false,
            "showline": true,
            "ticks": "outside"
           }
          },
          "title": {
           "x": 0.05
          },
          "xaxis": {
           "automargin": true,
           "gridcolor": "rgb(232,232,232)",
           "linecolor": "rgb(36,36,36)",
           "showgrid": false,
           "showline": true,
           "ticks": "outside",
           "title": {
            "standoff": 15
           },
           "zeroline": false,
           "zerolinecolor": "rgb(36,36,36)"
          },
          "yaxis": {
           "automargin": true,
           "gridcolor": "rgb(232,232,232)",
           "linecolor": "rgb(36,36,36)",
           "showgrid": false,
           "showline": true,
           "ticks": "outside",
           "title": {
            "standoff": 15
           },
           "zeroline": false,
           "zerolinecolor": "rgb(36,36,36)"
          }
         }
        },
        "title": {
         "text": "A1 Emissions for five key air pollutants in England, 1998 to 2018"
        },
        "xaxis": {
         "anchor": "y",
         "domain": [
          0,
          1
         ],
         "dtick": 2,
         "title": {
          "text": ""
         },
         "type": "linear"
        },
        "yaxis": {
         "anchor": "x",
         "domain": [
          0,
          1
         ],
         "dtick": 10,
         "title": {
          "text": "Index(1998 = 100)"
         },
         "type": "linear"
        }
       }
      }
     },
     "metadata": {}
    }
   ],
   "source": [
    "plot_A1(\n",
    "    df=df_processed_chain,\n",
    "    x='Year',\n",
    "    y='Index',\n",
    "    var='ShortPollName',\n",
    "    var_colours={\n",
    "        'NH3': '#00AF41',\n",
    "        'PM2.5': '#00AF41',\n",
    "        'NOx': 'Grey',\n",
    "        'NMVOC': '#007CBA',\n",
    "        'SO2': '#007CBA'\n",
    "        },\n",
    "    var_line_style={\n",
    "        'NH3': 'solid',\n",
    "        'PM2.5': 'dash',\n",
    "        'NOx': 'solid',\n",
    "        'NMVOC': 'solid',\n",
    "        'SO2': 'dash'\n",
    "        },\n",
    "    title=f'A1 Emissions for five key air pollutants in England, {df_processed_chain.Year.min()} to {df_processed_chain.Year.max()}',\n",
    "    labels={\n",
    "        'ShortPollName': 'Pollutant'\n",
    "        },\n",
    "    title_x='',\n",
    "    title_y=f'Index({df_processed_chain.Year.min()} = 100)',\n",
    "    title_legend='', \n",
    "    source='Ricardo Energy & Environment'\n",
    ")"
   ]
  },
  {
   "cell_type": "code",
   "execution_count": null,
   "metadata": {},
   "outputs": [],
   "source": []
  }
 ]
}